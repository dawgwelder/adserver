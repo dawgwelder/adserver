{
 "cells": [
  {
   "cell_type": "code",
   "execution_count": 1,
   "metadata": {},
   "outputs": [
    {
     "name": "stderr",
     "output_type": "stream",
     "text": [
      "/home/dartsirkidman/anaconda3/lib/python3.6/site-packages/tqdm/autonotebook/__init__.py:14: TqdmExperimentalWarning: Using `tqdm.autonotebook.tqdm` in notebook mode. Use `tqdm.tqdm` instead to force console mode (e.g. in jupyter console)\n",
      "  \" (e.g. in jupyter console)\", TqdmExperimentalWarning)\n"
     ]
    }
   ],
   "source": [
    "import numpy as np\n",
    "import pandas as pd\n",
    "from feature_selector import FeatureSelector\n",
    "from matplotlib import pyplot as plt\n",
    "import seaborn as sns \n",
    "from tqdm import tqdm_notebook, tqdm_pandas\n",
    "from tqdm.autonotebook import tqdm\n",
    "\n",
    "pd.options.display.float_format = '{:.2f}'.format\n",
    "tqdm.pandas()\n",
    "%matplotlib inline \n",
    "sns.set()\n",
    "%config InlineBackend.figure_format = 'retina'"
   ]
  },
  {
   "cell_type": "code",
   "execution_count": 2,
   "metadata": {},
   "outputs": [
    {
     "data": {
      "text/html": [
       "<div>\n",
       "<style scoped>\n",
       "    .dataframe tbody tr th:only-of-type {\n",
       "        vertical-align: middle;\n",
       "    }\n",
       "\n",
       "    .dataframe tbody tr th {\n",
       "        vertical-align: top;\n",
       "    }\n",
       "\n",
       "    .dataframe thead th {\n",
       "        text-align: right;\n",
       "    }\n",
       "</style>\n",
       "<table border=\"1\" class=\"dataframe\">\n",
       "  <thead>\n",
       "    <tr style=\"text-align: right;\">\n",
       "      <th></th>\n",
       "      <th>date_time</th>\n",
       "      <th>banner_id</th>\n",
       "      <th>advertiser_id</th>\n",
       "      <th>offer_id</th>\n",
       "      <th>zone_id</th>\n",
       "      <th>affiliate_id</th>\n",
       "      <th>geo</th>\n",
       "      <th>region_code</th>\n",
       "      <th>city_code</th>\n",
       "      <th>varp</th>\n",
       "      <th>...</th>\n",
       "      <th>browser</th>\n",
       "      <th>lang</th>\n",
       "      <th>varpp</th>\n",
       "      <th>varcc</th>\n",
       "      <th>isp</th>\n",
       "      <th>mobile_isp</th>\n",
       "      <th>proxy</th>\n",
       "      <th>netspeed</th>\n",
       "      <th>impressions</th>\n",
       "      <th>conversions</th>\n",
       "    </tr>\n",
       "  </thead>\n",
       "  <tbody>\n",
       "    <tr>\n",
       "      <th>0</th>\n",
       "      <td>2016-09-09 10:00:00</td>\n",
       "      <td>23051597.00</td>\n",
       "      <td>502713.00</td>\n",
       "      <td>492.00</td>\n",
       "      <td>4375553.00</td>\n",
       "      <td>2505762.00</td>\n",
       "      <td>BR</td>\n",
       "      <td>726.00</td>\n",
       "      <td>4162.00</td>\n",
       "      <td>4.00</td>\n",
       "      <td>...</td>\n",
       "      <td>fb</td>\n",
       "      <td>pt</td>\n",
       "      <td>1.00</td>\n",
       "      <td>0.00</td>\n",
       "      <td>17111.00</td>\n",
       "      <td>0.00</td>\n",
       "      <td>f</td>\n",
       "      <td>BROADBAND</td>\n",
       "      <td>1.00</td>\n",
       "      <td>0.00</td>\n",
       "    </tr>\n",
       "    <tr>\n",
       "      <th>1</th>\n",
       "      <td>2016-09-05 14:00:00</td>\n",
       "      <td>23075994.00</td>\n",
       "      <td>8508.00</td>\n",
       "      <td>2287.00</td>\n",
       "      <td>13732852.00</td>\n",
       "      <td>6530828.00</td>\n",
       "      <td>RO</td>\n",
       "      <td>12074.00</td>\n",
       "      <td>512299.00</td>\n",
       "      <td>1.00</td>\n",
       "      <td>...</td>\n",
       "      <td>chrome</td>\n",
       "      <td>ro</td>\n",
       "      <td>2.00</td>\n",
       "      <td>0.00</td>\n",
       "      <td>88118.00</td>\n",
       "      <td>0.00</td>\n",
       "      <td>f</td>\n",
       "      <td>BROADBAND</td>\n",
       "      <td>1.00</td>\n",
       "      <td>0.00</td>\n",
       "    </tr>\n",
       "    <tr>\n",
       "      <th>2</th>\n",
       "      <td>2016-09-08 22:00:00</td>\n",
       "      <td>21359300.00</td>\n",
       "      <td>17528.00</td>\n",
       "      <td>nan</td>\n",
       "      <td>12242731.00</td>\n",
       "      <td>5797966.00</td>\n",
       "      <td>EG</td>\n",
       "      <td>25295.00</td>\n",
       "      <td>29514.00</td>\n",
       "      <td>4.00</td>\n",
       "      <td>...</td>\n",
       "      <td>chrome</td>\n",
       "      <td>en</td>\n",
       "      <td>6.00</td>\n",
       "      <td>0.00</td>\n",
       "      <td>102851.00</td>\n",
       "      <td>0.00</td>\n",
       "      <td>f</td>\n",
       "      <td>BROADBAND</td>\n",
       "      <td>1.00</td>\n",
       "      <td>0.00</td>\n",
       "    </tr>\n",
       "    <tr>\n",
       "      <th>3</th>\n",
       "      <td>2016-09-10 19:00:00</td>\n",
       "      <td>23074678.00</td>\n",
       "      <td>420481.00</td>\n",
       "      <td>2287.00</td>\n",
       "      <td>5388033.00</td>\n",
       "      <td>62457.00</td>\n",
       "      <td>JO</td>\n",
       "      <td>25649.00</td>\n",
       "      <td>12381.00</td>\n",
       "      <td>1.00</td>\n",
       "      <td>...</td>\n",
       "      <td>ie</td>\n",
       "      <td>en</td>\n",
       "      <td>2.00</td>\n",
       "      <td>0.00</td>\n",
       "      <td>105638.00</td>\n",
       "      <td>0.00</td>\n",
       "      <td>f</td>\n",
       "      <td>BROADBAND</td>\n",
       "      <td>1.00</td>\n",
       "      <td>0.00</td>\n",
       "    </tr>\n",
       "    <tr>\n",
       "      <th>4</th>\n",
       "      <td>2016-09-14 00:00:00</td>\n",
       "      <td>22289011.00</td>\n",
       "      <td>450621.00</td>\n",
       "      <td>nan</td>\n",
       "      <td>11164447.00</td>\n",
       "      <td>3927.00</td>\n",
       "      <td>BR</td>\n",
       "      <td>10122.00</td>\n",
       "      <td>11105.00</td>\n",
       "      <td>1.00</td>\n",
       "      <td>...</td>\n",
       "      <td>chrome</td>\n",
       "      <td>pt</td>\n",
       "      <td>2.00</td>\n",
       "      <td>0.00</td>\n",
       "      <td>104045.00</td>\n",
       "      <td>0.00</td>\n",
       "      <td>f</td>\n",
       "      <td>BROADBAND</td>\n",
       "      <td>1.00</td>\n",
       "      <td>0.00</td>\n",
       "    </tr>\n",
       "  </tbody>\n",
       "</table>\n",
       "<p>5 rows × 25 columns</p>\n",
       "</div>"
      ],
      "text/plain": [
       "             date_time   banner_id  advertiser_id  offer_id     zone_id  \\\n",
       "0  2016-09-09 10:00:00 23051597.00      502713.00    492.00  4375553.00   \n",
       "1  2016-09-05 14:00:00 23075994.00        8508.00   2287.00 13732852.00   \n",
       "2  2016-09-08 22:00:00 21359300.00       17528.00       nan 12242731.00   \n",
       "3  2016-09-10 19:00:00 23074678.00      420481.00   2287.00  5388033.00   \n",
       "4  2016-09-14 00:00:00 22289011.00      450621.00       nan 11164447.00   \n",
       "\n",
       "   affiliate_id geo  region_code  city_code  varp     ...      browser lang  \\\n",
       "0    2505762.00  BR       726.00    4162.00  4.00     ...           fb   pt   \n",
       "1    6530828.00  RO     12074.00  512299.00  1.00     ...       chrome   ro   \n",
       "2    5797966.00  EG     25295.00   29514.00  4.00     ...       chrome   en   \n",
       "3      62457.00  JO     25649.00   12381.00  1.00     ...           ie   en   \n",
       "4       3927.00  BR     10122.00   11105.00  1.00     ...       chrome   pt   \n",
       "\n",
       "  varpp varcc       isp mobile_isp proxy   netspeed  impressions  conversions  \n",
       "0  1.00  0.00  17111.00       0.00     f  BROADBAND         1.00         0.00  \n",
       "1  2.00  0.00  88118.00       0.00     f  BROADBAND         1.00         0.00  \n",
       "2  6.00  0.00 102851.00       0.00     f  BROADBAND         1.00         0.00  \n",
       "3  2.00  0.00 105638.00       0.00     f  BROADBAND         1.00         0.00  \n",
       "4  2.00  0.00 104045.00       0.00     f  BROADBAND         1.00         0.00  \n",
       "\n",
       "[5 rows x 25 columns]"
      ]
     },
     "execution_count": 2,
     "metadata": {},
     "output_type": "execute_result"
    }
   ],
   "source": [
    "df = pd.read_csv('ds_homework_sample.csv', sep='|')\n",
    "df.head()"
   ]
  },
  {
   "cell_type": "code",
   "execution_count": 3,
   "metadata": {},
   "outputs": [
    {
     "data": {
      "text/html": [
       "<div>\n",
       "<style scoped>\n",
       "    .dataframe tbody tr th:only-of-type {\n",
       "        vertical-align: middle;\n",
       "    }\n",
       "\n",
       "    .dataframe tbody tr th {\n",
       "        vertical-align: top;\n",
       "    }\n",
       "\n",
       "    .dataframe thead th {\n",
       "        text-align: right;\n",
       "    }\n",
       "</style>\n",
       "<table border=\"1\" class=\"dataframe\">\n",
       "  <thead>\n",
       "    <tr style=\"text-align: right;\">\n",
       "      <th></th>\n",
       "      <th>date_time</th>\n",
       "      <th>banner_id</th>\n",
       "      <th>advertiser_id</th>\n",
       "      <th>offer_id</th>\n",
       "      <th>zone_id</th>\n",
       "      <th>affiliate_id</th>\n",
       "      <th>geo</th>\n",
       "      <th>region_code</th>\n",
       "      <th>city_code</th>\n",
       "      <th>varp</th>\n",
       "      <th>...</th>\n",
       "      <th>browser</th>\n",
       "      <th>lang</th>\n",
       "      <th>varpp</th>\n",
       "      <th>varcc</th>\n",
       "      <th>isp</th>\n",
       "      <th>mobile_isp</th>\n",
       "      <th>proxy</th>\n",
       "      <th>netspeed</th>\n",
       "      <th>impressions</th>\n",
       "      <th>conversions</th>\n",
       "    </tr>\n",
       "  </thead>\n",
       "  <tbody>\n",
       "    <tr>\n",
       "      <th>999999</th>\n",
       "      <td>2016-09-11 08:00:00</td>\n",
       "      <td>20522087.00</td>\n",
       "      <td>368197.00</td>\n",
       "      <td>nan</td>\n",
       "      <td>13014907.00</td>\n",
       "      <td>25560.00</td>\n",
       "      <td>PL</td>\n",
       "      <td>14360.00</td>\n",
       "      <td>42626.00</td>\n",
       "      <td>1.00</td>\n",
       "      <td>...</td>\n",
       "      <td>firefox</td>\n",
       "      <td>pl</td>\n",
       "      <td>1.00</td>\n",
       "      <td>0.00</td>\n",
       "      <td>35105.00</td>\n",
       "      <td>0.00</td>\n",
       "      <td>f</td>\n",
       "      <td>BROADBAND</td>\n",
       "      <td>1.00</td>\n",
       "      <td>0.00</td>\n",
       "    </tr>\n",
       "    <tr>\n",
       "      <th>1000000</th>\n",
       "      <td>(1000000 rows)</td>\n",
       "      <td>nan</td>\n",
       "      <td>nan</td>\n",
       "      <td>nan</td>\n",
       "      <td>nan</td>\n",
       "      <td>nan</td>\n",
       "      <td>NaN</td>\n",
       "      <td>nan</td>\n",
       "      <td>nan</td>\n",
       "      <td>nan</td>\n",
       "      <td>...</td>\n",
       "      <td>NaN</td>\n",
       "      <td>NaN</td>\n",
       "      <td>nan</td>\n",
       "      <td>nan</td>\n",
       "      <td>nan</td>\n",
       "      <td>nan</td>\n",
       "      <td>NaN</td>\n",
       "      <td>NaN</td>\n",
       "      <td>nan</td>\n",
       "      <td>nan</td>\n",
       "    </tr>\n",
       "  </tbody>\n",
       "</table>\n",
       "<p>2 rows × 25 columns</p>\n",
       "</div>"
      ],
      "text/plain": [
       "                   date_time   banner_id  advertiser_id  offer_id     zone_id  \\\n",
       "999999   2016-09-11 08:00:00 20522087.00      368197.00       nan 13014907.00   \n",
       "1000000       (1000000 rows)         nan            nan       nan         nan   \n",
       "\n",
       "         affiliate_id  geo  region_code  city_code  varp     ...       \\\n",
       "999999       25560.00   PL     14360.00   42626.00  1.00     ...        \n",
       "1000000           nan  NaN          nan        nan   nan     ...        \n",
       "\n",
       "         browser lang varpp varcc      isp mobile_isp proxy   netspeed  \\\n",
       "999999   firefox   pl  1.00  0.00 35105.00       0.00     f  BROADBAND   \n",
       "1000000      NaN  NaN   nan   nan      nan        nan   NaN        NaN   \n",
       "\n",
       "         impressions  conversions  \n",
       "999999          1.00         0.00  \n",
       "1000000          nan          nan  \n",
       "\n",
       "[2 rows x 25 columns]"
      ]
     },
     "execution_count": 3,
     "metadata": {},
     "output_type": "execute_result"
    }
   ],
   "source": [
    "# last row is incorrect\n",
    "df.tail(2)"
   ]
  },
  {
   "cell_type": "code",
   "execution_count": 4,
   "metadata": {},
   "outputs": [],
   "source": [
    "df.drop(1e6, inplace=True)"
   ]
  },
  {
   "cell_type": "markdown",
   "metadata": {},
   "source": [
    "### Категориальные признаки \n",
    "Список категориальных признаков без допуска N/A - значений, так как эти данные либо являются метаданными для рекламодателя/баннера или сайта/месторасположения:\n",
    "  * zone_id\n",
    "  * affilate_id\n",
    "  * banner_id\n",
    "  * advertiser_id\n",
    "  * offer_id </br>\n",
    "  ---\n",
    "Список категориальных признаков, допускающие N/A - значения:\n",
    "  * geo\n",
    "  * region_code\n",
    "  * city_code\n",
    "  * os_type\n",
    "  * os\n",
    "  * os_version\n",
    "  * device_type\n",
    "  * device\n",
    "  * browser\n",
    "  * netspeed \n",
    "  * lang\n",
    "  * isp\n",
    "  * mobile_isp </br>\n",
    "  ---\n",
    "Список количественных признаков:\n",
    "  * vapp\n",
    "  * varpp\n",
    "  * varcc </br>\n",
    "  ---\n",
    "Список индикаторов (булевы) признаки: \n",
    "  * proxy\n",
    "---\n",
    "### Что можно применить для отбора признаков: \n",
    "    1) Человеческая логика\n",
    "    2) Итеративные признаки - не жадные (например полного перебора), жадные (add-del)\n",
    "    3) На основе модели - Lasso-регрессия, feature_importance в деревяных методах.\n",
    "    4) Сравнить две модели(с фичами и без) при помощи wilcoxon.\n",
    "Так как категориальным признакам суждено быть повернутыми в OHE, то большинство вариантов отпадает, из-за слишком разреженной матрицы признаков, которые не поместятся в память. Для этого задания, например, последовательно были использованы два локальных компьютера с 4 и 16 ГБ оперативной памяти и инстанс на Google Cloud на 52 ГБ в дальнейшем.\n",
    "      \n",
    "Что заранее можно сказать о признаках:\n",
    "\n",
    "   * Второй список категориальных признаков можно описать обобщенно как __\"профиль\" пользователя__ - набор некоторых характеристик, присущих конкретному человеку, которому показывается реклама.\n",
    "   * Первый набор, аналогично, частично определяет \"профиль\" для рекламы, но не так очевидно, как это делает второй набор.\n",
    " \n",
    "_Ходы решения_:\n",
    "Для отбора признаков деревяным методом используем модуль feature-selector, которая внедряет ```feature_importances``` из _LightGBM_, так же из популярных решений - _BorutaPy_. Количественные признаки проверим при помощи F-критерия. Признаки с малым вкладом дополнительно оценим при помощи ```scipy.stats.wilcoxon```."
   ]
  },
  {
   "cell_type": "code",
   "execution_count": 5,
   "metadata": {},
   "outputs": [
    {
     "data": {
      "text/plain": [
       "Index(['banner_id', 'advertiser_id', 'offer_id', 'zone_id', 'affiliate_id'], dtype='object')"
      ]
     },
     "execution_count": 5,
     "metadata": {},
     "output_type": "execute_result"
    }
   ],
   "source": [
    "# 1st group categorical \n",
    "categorical_without_nans = df.columns[1:6]\n",
    "categorical_without_nans"
   ]
  },
  {
   "cell_type": "code",
   "execution_count": 6,
   "metadata": {},
   "outputs": [
    {
     "data": {
      "text/plain": [
       "Index(['geo', 'region_code', 'city_code', 'os_type', 'os', 'os_version',\n",
       "       'device_type', 'device', 'browser', 'lang', 'isp', 'mobile_isp',\n",
       "       'netspeed'],\n",
       "      dtype='object')"
      ]
     },
     "execution_count": 6,
     "metadata": {},
     "output_type": "execute_result"
    }
   ],
   "source": [
    "# 2st group categorical \n",
    "categorical_with_nans = pd.Index(['geo', 'region_code', 'city_code', 'os_type', 'os', \\\n",
    "                                  'os_version', 'device_type', 'device', 'browser', 'lang', \\\n",
    "                                  'isp', 'mobile_isp', 'netspeed'])\n",
    "categorical_with_nans"
   ]
  },
  {
   "cell_type": "code",
   "execution_count": 7,
   "metadata": {},
   "outputs": [],
   "source": [
    "# map to bool type\n",
    "proxy_mapping = {'f': 0, 't': 1}\n",
    "\n",
    "df['proxy'] = df['proxy'].map(proxy_mapping)"
   ]
  },
  {
   "cell_type": "code",
   "execution_count": 8,
   "metadata": {},
   "outputs": [
    {
     "data": {
      "text/html": [
       "<div>\n",
       "<style scoped>\n",
       "    .dataframe tbody tr th:only-of-type {\n",
       "        vertical-align: middle;\n",
       "    }\n",
       "\n",
       "    .dataframe tbody tr th {\n",
       "        vertical-align: top;\n",
       "    }\n",
       "\n",
       "    .dataframe thead th {\n",
       "        text-align: right;\n",
       "    }\n",
       "</style>\n",
       "<table border=\"1\" class=\"dataframe\">\n",
       "  <thead>\n",
       "    <tr style=\"text-align: right;\">\n",
       "      <th></th>\n",
       "      <th>date_time</th>\n",
       "      <th>banner_id</th>\n",
       "      <th>advertiser_id</th>\n",
       "      <th>offer_id</th>\n",
       "      <th>zone_id</th>\n",
       "      <th>affiliate_id</th>\n",
       "      <th>geo</th>\n",
       "      <th>region_code</th>\n",
       "      <th>city_code</th>\n",
       "      <th>varp</th>\n",
       "      <th>...</th>\n",
       "      <th>browser</th>\n",
       "      <th>lang</th>\n",
       "      <th>varpp</th>\n",
       "      <th>varcc</th>\n",
       "      <th>isp</th>\n",
       "      <th>mobile_isp</th>\n",
       "      <th>proxy</th>\n",
       "      <th>netspeed</th>\n",
       "      <th>impressions</th>\n",
       "      <th>conversions</th>\n",
       "    </tr>\n",
       "  </thead>\n",
       "  <tbody>\n",
       "    <tr>\n",
       "      <th>0</th>\n",
       "      <td>2016-09-09 10:00:00</td>\n",
       "      <td>23051597.00</td>\n",
       "      <td>502713.00</td>\n",
       "      <td>492.00</td>\n",
       "      <td>4375553.00</td>\n",
       "      <td>2505762.00</td>\n",
       "      <td>BR</td>\n",
       "      <td>726.00</td>\n",
       "      <td>4162.00</td>\n",
       "      <td>4.00</td>\n",
       "      <td>...</td>\n",
       "      <td>fb</td>\n",
       "      <td>pt</td>\n",
       "      <td>1.00</td>\n",
       "      <td>0.00</td>\n",
       "      <td>17111.00</td>\n",
       "      <td>0.00</td>\n",
       "      <td>0</td>\n",
       "      <td>BROADBAND</td>\n",
       "      <td>1.00</td>\n",
       "      <td>0.00</td>\n",
       "    </tr>\n",
       "    <tr>\n",
       "      <th>1</th>\n",
       "      <td>2016-09-05 14:00:00</td>\n",
       "      <td>23075994.00</td>\n",
       "      <td>8508.00</td>\n",
       "      <td>2287.00</td>\n",
       "      <td>13732852.00</td>\n",
       "      <td>6530828.00</td>\n",
       "      <td>RO</td>\n",
       "      <td>12074.00</td>\n",
       "      <td>512299.00</td>\n",
       "      <td>1.00</td>\n",
       "      <td>...</td>\n",
       "      <td>chrome</td>\n",
       "      <td>ro</td>\n",
       "      <td>2.00</td>\n",
       "      <td>0.00</td>\n",
       "      <td>88118.00</td>\n",
       "      <td>0.00</td>\n",
       "      <td>0</td>\n",
       "      <td>BROADBAND</td>\n",
       "      <td>1.00</td>\n",
       "      <td>0.00</td>\n",
       "    </tr>\n",
       "    <tr>\n",
       "      <th>2</th>\n",
       "      <td>2016-09-08 22:00:00</td>\n",
       "      <td>21359300.00</td>\n",
       "      <td>17528.00</td>\n",
       "      <td>NaN</td>\n",
       "      <td>12242731.00</td>\n",
       "      <td>5797966.00</td>\n",
       "      <td>EG</td>\n",
       "      <td>25295.00</td>\n",
       "      <td>29514.00</td>\n",
       "      <td>4.00</td>\n",
       "      <td>...</td>\n",
       "      <td>chrome</td>\n",
       "      <td>en</td>\n",
       "      <td>6.00</td>\n",
       "      <td>0.00</td>\n",
       "      <td>102851.00</td>\n",
       "      <td>0.00</td>\n",
       "      <td>0</td>\n",
       "      <td>BROADBAND</td>\n",
       "      <td>1.00</td>\n",
       "      <td>0.00</td>\n",
       "    </tr>\n",
       "    <tr>\n",
       "      <th>3</th>\n",
       "      <td>2016-09-10 19:00:00</td>\n",
       "      <td>23074678.00</td>\n",
       "      <td>420481.00</td>\n",
       "      <td>2287.00</td>\n",
       "      <td>5388033.00</td>\n",
       "      <td>62457.00</td>\n",
       "      <td>JO</td>\n",
       "      <td>25649.00</td>\n",
       "      <td>12381.00</td>\n",
       "      <td>1.00</td>\n",
       "      <td>...</td>\n",
       "      <td>ie</td>\n",
       "      <td>en</td>\n",
       "      <td>2.00</td>\n",
       "      <td>0.00</td>\n",
       "      <td>105638.00</td>\n",
       "      <td>0.00</td>\n",
       "      <td>0</td>\n",
       "      <td>BROADBAND</td>\n",
       "      <td>1.00</td>\n",
       "      <td>0.00</td>\n",
       "    </tr>\n",
       "    <tr>\n",
       "      <th>4</th>\n",
       "      <td>2016-09-14 00:00:00</td>\n",
       "      <td>22289011.00</td>\n",
       "      <td>450621.00</td>\n",
       "      <td>NaN</td>\n",
       "      <td>11164447.00</td>\n",
       "      <td>3927.00</td>\n",
       "      <td>BR</td>\n",
       "      <td>10122.00</td>\n",
       "      <td>11105.00</td>\n",
       "      <td>1.00</td>\n",
       "      <td>...</td>\n",
       "      <td>chrome</td>\n",
       "      <td>pt</td>\n",
       "      <td>2.00</td>\n",
       "      <td>0.00</td>\n",
       "      <td>104045.00</td>\n",
       "      <td>0.00</td>\n",
       "      <td>0</td>\n",
       "      <td>BROADBAND</td>\n",
       "      <td>1.00</td>\n",
       "      <td>0.00</td>\n",
       "    </tr>\n",
       "  </tbody>\n",
       "</table>\n",
       "<p>5 rows × 25 columns</p>\n",
       "</div>"
      ],
      "text/plain": [
       "             date_time   banner_id advertiser_id offer_id     zone_id  \\\n",
       "0  2016-09-09 10:00:00 23051597.00     502713.00   492.00  4375553.00   \n",
       "1  2016-09-05 14:00:00 23075994.00       8508.00  2287.00 13732852.00   \n",
       "2  2016-09-08 22:00:00 21359300.00      17528.00      NaN 12242731.00   \n",
       "3  2016-09-10 19:00:00 23074678.00     420481.00  2287.00  5388033.00   \n",
       "4  2016-09-14 00:00:00 22289011.00     450621.00      NaN 11164447.00   \n",
       "\n",
       "  affiliate_id geo region_code city_code  varp     ...     browser lang varpp  \\\n",
       "0   2505762.00  BR      726.00   4162.00  4.00     ...          fb   pt  1.00   \n",
       "1   6530828.00  RO    12074.00 512299.00  1.00     ...      chrome   ro  2.00   \n",
       "2   5797966.00  EG    25295.00  29514.00  4.00     ...      chrome   en  6.00   \n",
       "3     62457.00  JO    25649.00  12381.00  1.00     ...          ie   en  2.00   \n",
       "4      3927.00  BR    10122.00  11105.00  1.00     ...      chrome   pt  2.00   \n",
       "\n",
       "  varcc       isp mobile_isp proxy   netspeed  impressions conversions  \n",
       "0  0.00  17111.00       0.00     0  BROADBAND         1.00        0.00  \n",
       "1  0.00  88118.00       0.00     0  BROADBAND         1.00        0.00  \n",
       "2  0.00 102851.00       0.00     0  BROADBAND         1.00        0.00  \n",
       "3  0.00 105638.00       0.00     0  BROADBAND         1.00        0.00  \n",
       "4  0.00 104045.00       0.00     0  BROADBAND         1.00        0.00  \n",
       "\n",
       "[5 rows x 25 columns]"
      ]
     },
     "execution_count": 8,
     "metadata": {},
     "output_type": "execute_result"
    }
   ],
   "source": [
    "df[categorical_with_nans] = df[categorical_with_nans].astype(object)\n",
    "df[categorical_without_nans] = df[categorical_without_nans].astype(object)\n",
    "# df['date_time'] = df['date_time'].progress_apply(pd.to_datetime)\n",
    "\n",
    "df.head()"
   ]
  },
  {
   "cell_type": "code",
   "execution_count": 9,
   "metadata": {},
   "outputs": [
    {
     "name": "stdout",
     "output_type": "stream",
     "text": [
      "<class 'pandas.core.frame.DataFrame'>\n",
      "Int64Index: 1000000 entries, 0 to 999999\n",
      "Data columns (total 25 columns):\n",
      "date_time        1000000 non-null object\n",
      "banner_id        1000000 non-null object\n",
      "advertiser_id    1000000 non-null object\n",
      "offer_id         392841 non-null object\n",
      "zone_id          1000000 non-null object\n",
      "affiliate_id     1000000 non-null object\n",
      "geo              999926 non-null object\n",
      "region_code      1000000 non-null object\n",
      "city_code        1000000 non-null object\n",
      "varp             1000000 non-null float64\n",
      "os_type          1000000 non-null object\n",
      "os               1000000 non-null object\n",
      "os_version       1000000 non-null object\n",
      "device_type      1000000 non-null object\n",
      "device           1000000 non-null object\n",
      "browser          1000000 non-null object\n",
      "lang             1000000 non-null object\n",
      "varpp            1000000 non-null float64\n",
      "varcc            1000000 non-null float64\n",
      "isp              1000000 non-null object\n",
      "mobile_isp       1000000 non-null object\n",
      "proxy            1000000 non-null int64\n",
      "netspeed         1000000 non-null object\n",
      "impressions      1000000 non-null float64\n",
      "conversions      1000000 non-null float64\n",
      "dtypes: float64(5), int64(1), object(19)\n",
      "memory usage: 198.4+ MB\n"
     ]
    }
   ],
   "source": [
    "df.info()"
   ]
  },
  {
   "cell_type": "markdown",
   "metadata": {},
   "source": [
    "Предварительно можно заключить, что признак *offer_id* является не слишком полезным из-за большого количества пропусков."
   ]
  },
  {
   "cell_type": "code",
   "execution_count": 370,
   "metadata": {},
   "outputs": [
    {
     "data": {
      "text/html": [
       "<div>\n",
       "<style scoped>\n",
       "    .dataframe tbody tr th:only-of-type {\n",
       "        vertical-align: middle;\n",
       "    }\n",
       "\n",
       "    .dataframe tbody tr th {\n",
       "        vertical-align: top;\n",
       "    }\n",
       "\n",
       "    .dataframe thead th {\n",
       "        text-align: right;\n",
       "    }\n",
       "</style>\n",
       "<table border=\"1\" class=\"dataframe\">\n",
       "  <thead>\n",
       "    <tr style=\"text-align: right;\">\n",
       "      <th></th>\n",
       "      <th>varp</th>\n",
       "      <th>varpp</th>\n",
       "      <th>varcc</th>\n",
       "    </tr>\n",
       "  </thead>\n",
       "  <tbody>\n",
       "    <tr>\n",
       "      <th>count</th>\n",
       "      <td>1000000.00000</td>\n",
       "      <td>1000000.00000</td>\n",
       "      <td>1000000.00000</td>\n",
       "    </tr>\n",
       "    <tr>\n",
       "      <th>mean</th>\n",
       "      <td>2.27599</td>\n",
       "      <td>7.40299</td>\n",
       "      <td>3.36231</td>\n",
       "    </tr>\n",
       "    <tr>\n",
       "      <th>std</th>\n",
       "      <td>1.42884</td>\n",
       "      <td>35.71248</td>\n",
       "      <td>21.13040</td>\n",
       "    </tr>\n",
       "    <tr>\n",
       "      <th>min</th>\n",
       "      <td>0.00000</td>\n",
       "      <td>0.00000</td>\n",
       "      <td>0.00000</td>\n",
       "    </tr>\n",
       "    <tr>\n",
       "      <th>25%</th>\n",
       "      <td>1.00000</td>\n",
       "      <td>1.00000</td>\n",
       "      <td>0.00000</td>\n",
       "    </tr>\n",
       "    <tr>\n",
       "      <th>50%</th>\n",
       "      <td>1.00000</td>\n",
       "      <td>2.00000</td>\n",
       "      <td>0.00000</td>\n",
       "    </tr>\n",
       "    <tr>\n",
       "      <th>75%</th>\n",
       "      <td>4.00000</td>\n",
       "      <td>5.00000</td>\n",
       "      <td>1.00000</td>\n",
       "    </tr>\n",
       "    <tr>\n",
       "      <th>max</th>\n",
       "      <td>5.00000</td>\n",
       "      <td>6772.00000</td>\n",
       "      <td>1644.00000</td>\n",
       "    </tr>\n",
       "  </tbody>\n",
       "</table>\n",
       "</div>"
      ],
      "text/plain": [
       "               varp         varpp         varcc\n",
       "count 1000000.00000 1000000.00000 1000000.00000\n",
       "mean        2.27599       7.40299       3.36231\n",
       "std         1.42884      35.71248      21.13040\n",
       "min         0.00000       0.00000       0.00000\n",
       "25%         1.00000       1.00000       0.00000\n",
       "50%         1.00000       2.00000       0.00000\n",
       "75%         4.00000       5.00000       1.00000\n",
       "max         5.00000    6772.00000    1644.00000"
      ]
     },
     "execution_count": 370,
     "metadata": {},
     "output_type": "execute_result"
    }
   ],
   "source": [
    "df[['varp', 'varpp', 'varcc']].describe()"
   ]
  },
  {
   "cell_type": "code",
   "execution_count": 372,
   "metadata": {},
   "outputs": [
    {
     "data": {
      "text/plain": [
       "varp     conversions\n",
       "0.00000  0.00000         18320\n",
       "         1.00000            14\n",
       "1.00000  0.00000        494288\n",
       "         1.00000          1679\n",
       "         2.00000            10\n",
       "         3.00000             6\n",
       "         7.00000             1\n",
       "2.00000  0.00000         37944\n",
       "         1.00000            83\n",
       "3.00000  0.00000         95390\n",
       "         1.00000           176\n",
       "         2.00000             3\n",
       "         6.00000             1\n",
       "4.00000  0.00000        342002\n",
       "         1.00000          1163\n",
       "         2.00000            14\n",
       "5.00000  0.00000          8884\n",
       "         1.00000            22\n",
       "Name: conversions, dtype: int64"
      ]
     },
     "execution_count": 372,
     "metadata": {},
     "output_type": "execute_result"
    }
   ],
   "source": [
    "df.groupby('varp')['conversions'].value_counts()"
   ]
  },
  {
   "cell_type": "code",
   "execution_count": 10,
   "metadata": {},
   "outputs": [
    {
     "data": {
      "text/html": [
       "<div>\n",
       "<style scoped>\n",
       "    .dataframe tbody tr th:only-of-type {\n",
       "        vertical-align: middle;\n",
       "    }\n",
       "\n",
       "    .dataframe tbody tr th {\n",
       "        vertical-align: top;\n",
       "    }\n",
       "\n",
       "    .dataframe thead th {\n",
       "        text-align: right;\n",
       "    }\n",
       "</style>\n",
       "<table border=\"1\" class=\"dataframe\">\n",
       "  <thead>\n",
       "    <tr style=\"text-align: right;\">\n",
       "      <th></th>\n",
       "      <th>date_time</th>\n",
       "      <th>banner_id</th>\n",
       "      <th>advertiser_id</th>\n",
       "      <th>offer_id</th>\n",
       "      <th>zone_id</th>\n",
       "      <th>affiliate_id</th>\n",
       "      <th>geo</th>\n",
       "      <th>region_code</th>\n",
       "      <th>city_code</th>\n",
       "      <th>varp</th>\n",
       "      <th>...</th>\n",
       "      <th>browser</th>\n",
       "      <th>lang</th>\n",
       "      <th>varpp</th>\n",
       "      <th>varcc</th>\n",
       "      <th>isp</th>\n",
       "      <th>mobile_isp</th>\n",
       "      <th>proxy</th>\n",
       "      <th>netspeed</th>\n",
       "      <th>impressions</th>\n",
       "      <th>conversions</th>\n",
       "    </tr>\n",
       "  </thead>\n",
       "  <tbody>\n",
       "  </tbody>\n",
       "</table>\n",
       "<p>0 rows × 25 columns</p>\n",
       "</div>"
      ],
      "text/plain": [
       "Empty DataFrame\n",
       "Columns: [date_time, banner_id, advertiser_id, offer_id, zone_id, affiliate_id, geo, region_code, city_code, varp, os_type, os, os_version, device_type, device, browser, lang, varpp, varcc, isp, mobile_isp, proxy, netspeed, impressions, conversions]\n",
       "Index: []\n",
       "\n",
       "[0 rows x 25 columns]"
      ]
     },
     "execution_count": 10,
     "metadata": {},
     "output_type": "execute_result"
    }
   ],
   "source": [
    "# нет аномальных данных, когда есть конверсия, но показа не было\n",
    "df[(df['impressions'].isnull() ) & ( df['conversions'].notnull())]"
   ]
  },
  {
   "cell_type": "code",
   "execution_count": 104,
   "metadata": {},
   "outputs": [
    {
     "data": {
      "text/plain": [
       "0.00    996828\n",
       "1.00      3137\n",
       "2.00        27\n",
       "3.00         6\n",
       "7.00         1\n",
       "6.00         1\n",
       "Name: conversions, dtype: int64"
      ]
     },
     "execution_count": 104,
     "metadata": {},
     "output_type": "execute_result"
    }
   ],
   "source": [
    "df.conversions.value_counts()"
   ]
  },
  {
   "cell_type": "markdown",
   "metadata": {},
   "source": [
    "### Бинаризация конверсий\n",
    "Обычно решается задача бинарной классификации для кликов/конверсий, так как заранее мы не знаем, будет ли показ, а тем более следующие действия пользователя - клик и конверсия. Следовательно, задачу можно несколько упростить, поставив метки [0 , 1] для поля конверсии. Кроме того, в поле конверсий всего 35 событий для значения зависимой переменной больше 1."
   ]
  },
  {
   "cell_type": "code",
   "execution_count": 11,
   "metadata": {},
   "outputs": [
    {
     "data": {
      "text/plain": [
       "0    996828\n",
       "1      3172\n",
       "Name: bin_conversions, dtype: int64"
      ]
     },
     "execution_count": 11,
     "metadata": {},
     "output_type": "execute_result"
    }
   ],
   "source": [
    "df['bin_conversions'] = df['conversions'].apply(lambda x: 1 if x else 0)\n",
    "df['bin_conversions'].value_counts()"
   ]
  },
  {
   "cell_type": "code",
   "execution_count": 217,
   "metadata": {},
   "outputs": [
    {
     "name": "stdout",
     "output_type": "stream",
     "text": [
      "Ratio of positive samples: 0.3182093600902061%\n"
     ]
    }
   ],
   "source": [
    "positive_percentage = df['bin_conversions'].value_counts()[1] / df['bin_conversions'].value_counts()[0] * 100\n",
    "print(f'Ratio of positive samples: {positive_percentage}%')"
   ]
  },
  {
   "cell_type": "markdown",
   "metadata": {},
   "source": [
    "### Доля конверсий довольно мала, и умещается в **0.3%**.\n",
    "Следовательно, классы сильно несбалансированы, и использование метрик типа accuracy будет не отражать реальную силу алгоритма.\n",
    "Для устранения этого дефекта можно использовать ROC AUC."
   ]
  },
  {
   "cell_type": "code",
   "execution_count": 13,
   "metadata": {},
   "outputs": [],
   "source": [
    "label = df.bin_conversions.values\n",
    "train = df.drop(columns=df.columns[-3:])"
   ]
  },
  {
   "cell_type": "code",
   "execution_count": 14,
   "metadata": {},
   "outputs": [
    {
     "data": {
      "text/html": [
       "<div>\n",
       "<style scoped>\n",
       "    .dataframe tbody tr th:only-of-type {\n",
       "        vertical-align: middle;\n",
       "    }\n",
       "\n",
       "    .dataframe tbody tr th {\n",
       "        vertical-align: top;\n",
       "    }\n",
       "\n",
       "    .dataframe thead th {\n",
       "        text-align: right;\n",
       "    }\n",
       "</style>\n",
       "<table border=\"1\" class=\"dataframe\">\n",
       "  <thead>\n",
       "    <tr style=\"text-align: right;\">\n",
       "      <th></th>\n",
       "      <th>date_time</th>\n",
       "      <th>banner_id</th>\n",
       "      <th>advertiser_id</th>\n",
       "      <th>offer_id</th>\n",
       "      <th>zone_id</th>\n",
       "      <th>affiliate_id</th>\n",
       "      <th>geo</th>\n",
       "      <th>region_code</th>\n",
       "      <th>city_code</th>\n",
       "      <th>varp</th>\n",
       "      <th>...</th>\n",
       "      <th>device_type</th>\n",
       "      <th>device</th>\n",
       "      <th>browser</th>\n",
       "      <th>lang</th>\n",
       "      <th>varpp</th>\n",
       "      <th>varcc</th>\n",
       "      <th>isp</th>\n",
       "      <th>mobile_isp</th>\n",
       "      <th>proxy</th>\n",
       "      <th>netspeed</th>\n",
       "    </tr>\n",
       "  </thead>\n",
       "  <tbody>\n",
       "    <tr>\n",
       "      <th>0</th>\n",
       "      <td>2016-09-09 10:00:00</td>\n",
       "      <td>23051597.00</td>\n",
       "      <td>502713.00</td>\n",
       "      <td>492.00</td>\n",
       "      <td>4375553.00</td>\n",
       "      <td>2505762.00</td>\n",
       "      <td>BR</td>\n",
       "      <td>726.00</td>\n",
       "      <td>4162.00</td>\n",
       "      <td>4.00</td>\n",
       "      <td>...</td>\n",
       "      <td>tablet</td>\n",
       "      <td>other</td>\n",
       "      <td>fb</td>\n",
       "      <td>pt</td>\n",
       "      <td>1.00</td>\n",
       "      <td>0.00</td>\n",
       "      <td>17111.00</td>\n",
       "      <td>0.00</td>\n",
       "      <td>0</td>\n",
       "      <td>BROADBAND</td>\n",
       "    </tr>\n",
       "    <tr>\n",
       "      <th>1</th>\n",
       "      <td>2016-09-05 14:00:00</td>\n",
       "      <td>23075994.00</td>\n",
       "      <td>8508.00</td>\n",
       "      <td>2287.00</td>\n",
       "      <td>13732852.00</td>\n",
       "      <td>6530828.00</td>\n",
       "      <td>RO</td>\n",
       "      <td>12074.00</td>\n",
       "      <td>512299.00</td>\n",
       "      <td>1.00</td>\n",
       "      <td>...</td>\n",
       "      <td>desktop</td>\n",
       "      <td>desktop</td>\n",
       "      <td>chrome</td>\n",
       "      <td>ro</td>\n",
       "      <td>2.00</td>\n",
       "      <td>0.00</td>\n",
       "      <td>88118.00</td>\n",
       "      <td>0.00</td>\n",
       "      <td>0</td>\n",
       "      <td>BROADBAND</td>\n",
       "    </tr>\n",
       "    <tr>\n",
       "      <th>2</th>\n",
       "      <td>2016-09-08 22:00:00</td>\n",
       "      <td>21359300.00</td>\n",
       "      <td>17528.00</td>\n",
       "      <td>NaN</td>\n",
       "      <td>12242731.00</td>\n",
       "      <td>5797966.00</td>\n",
       "      <td>EG</td>\n",
       "      <td>25295.00</td>\n",
       "      <td>29514.00</td>\n",
       "      <td>4.00</td>\n",
       "      <td>...</td>\n",
       "      <td>tablet</td>\n",
       "      <td>other</td>\n",
       "      <td>chrome</td>\n",
       "      <td>en</td>\n",
       "      <td>6.00</td>\n",
       "      <td>0.00</td>\n",
       "      <td>102851.00</td>\n",
       "      <td>0.00</td>\n",
       "      <td>0</td>\n",
       "      <td>BROADBAND</td>\n",
       "    </tr>\n",
       "    <tr>\n",
       "      <th>3</th>\n",
       "      <td>2016-09-10 19:00:00</td>\n",
       "      <td>23074678.00</td>\n",
       "      <td>420481.00</td>\n",
       "      <td>2287.00</td>\n",
       "      <td>5388033.00</td>\n",
       "      <td>62457.00</td>\n",
       "      <td>JO</td>\n",
       "      <td>25649.00</td>\n",
       "      <td>12381.00</td>\n",
       "      <td>1.00</td>\n",
       "      <td>...</td>\n",
       "      <td>desktop</td>\n",
       "      <td>desktop</td>\n",
       "      <td>ie</td>\n",
       "      <td>en</td>\n",
       "      <td>2.00</td>\n",
       "      <td>0.00</td>\n",
       "      <td>105638.00</td>\n",
       "      <td>0.00</td>\n",
       "      <td>0</td>\n",
       "      <td>BROADBAND</td>\n",
       "    </tr>\n",
       "    <tr>\n",
       "      <th>4</th>\n",
       "      <td>2016-09-14 00:00:00</td>\n",
       "      <td>22289011.00</td>\n",
       "      <td>450621.00</td>\n",
       "      <td>NaN</td>\n",
       "      <td>11164447.00</td>\n",
       "      <td>3927.00</td>\n",
       "      <td>BR</td>\n",
       "      <td>10122.00</td>\n",
       "      <td>11105.00</td>\n",
       "      <td>1.00</td>\n",
       "      <td>...</td>\n",
       "      <td>desktop</td>\n",
       "      <td>desktop</td>\n",
       "      <td>chrome</td>\n",
       "      <td>pt</td>\n",
       "      <td>2.00</td>\n",
       "      <td>0.00</td>\n",
       "      <td>104045.00</td>\n",
       "      <td>0.00</td>\n",
       "      <td>0</td>\n",
       "      <td>BROADBAND</td>\n",
       "    </tr>\n",
       "  </tbody>\n",
       "</table>\n",
       "<p>5 rows × 23 columns</p>\n",
       "</div>"
      ],
      "text/plain": [
       "             date_time   banner_id advertiser_id offer_id     zone_id  \\\n",
       "0  2016-09-09 10:00:00 23051597.00     502713.00   492.00  4375553.00   \n",
       "1  2016-09-05 14:00:00 23075994.00       8508.00  2287.00 13732852.00   \n",
       "2  2016-09-08 22:00:00 21359300.00      17528.00      NaN 12242731.00   \n",
       "3  2016-09-10 19:00:00 23074678.00     420481.00  2287.00  5388033.00   \n",
       "4  2016-09-14 00:00:00 22289011.00     450621.00      NaN 11164447.00   \n",
       "\n",
       "  affiliate_id geo region_code city_code  varp    ...     device_type  \\\n",
       "0   2505762.00  BR      726.00   4162.00  4.00    ...          tablet   \n",
       "1   6530828.00  RO    12074.00 512299.00  1.00    ...         desktop   \n",
       "2   5797966.00  EG    25295.00  29514.00  4.00    ...          tablet   \n",
       "3     62457.00  JO    25649.00  12381.00  1.00    ...         desktop   \n",
       "4      3927.00  BR    10122.00  11105.00  1.00    ...         desktop   \n",
       "\n",
       "    device browser lang varpp varcc       isp  mobile_isp  proxy   netspeed  \n",
       "0    other      fb   pt  1.00  0.00  17111.00        0.00      0  BROADBAND  \n",
       "1  desktop  chrome   ro  2.00  0.00  88118.00        0.00      0  BROADBAND  \n",
       "2    other  chrome   en  6.00  0.00 102851.00        0.00      0  BROADBAND  \n",
       "3  desktop      ie   en  2.00  0.00 105638.00        0.00      0  BROADBAND  \n",
       "4  desktop  chrome   pt  2.00  0.00 104045.00        0.00      0  BROADBAND  \n",
       "\n",
       "[5 rows x 23 columns]"
      ]
     },
     "execution_count": 14,
     "metadata": {},
     "output_type": "execute_result"
    }
   ],
   "source": [
    "train.head()"
   ]
  },
  {
   "cell_type": "markdown",
   "metadata": {},
   "source": [
    "## Про предиктор date_time \n",
    "date_time является неинформативным в подобном виде, так как несет осмысленность только для людей.\n",
    "В прогнозировании временных рядов, задачах регрессии, он был бы основным признаком, по которому мы строим прогноз.\n",
    "Для того, чтобы полноценно внедрить признаки времени из этого предиктора в модель классификации, требуется:\n",
    "    1. Представить в качестве категориальных признаков день недели, месяц и т.д.\n",
    "    2. Представить в виде бинарных признаков выходной день, праздничный день, конец месяца/года/квартала, начало месяца/года/квартала и т.д. Стоит так же отметить, что категориальные признаки из п.1 при повороте при помощи One-Hot Encoding  тоже становятся бинарными."
   ]
  },
  {
   "cell_type": "code",
   "execution_count": 15,
   "metadata": {},
   "outputs": [],
   "source": [
    "train.drop(columns='date_time', inplace=True)"
   ]
  },
  {
   "cell_type": "code",
   "execution_count": 16,
   "metadata": {},
   "outputs": [
    {
     "name": "stdout",
     "output_type": "stream",
     "text": [
      "Number of unique values in columns\n"
     ]
    },
    {
     "data": {
      "text/plain": [
       "banner_id         8083\n",
       "advertiser_id     2145\n",
       "offer_id           663\n",
       "zone_id            100\n",
       "affiliate_id        97\n",
       "geo                227\n",
       "region_code       2362\n",
       "city_code        39699\n",
       "varp                 6\n",
       "os_type              3\n",
       "os                   9\n",
       "os_version          28\n",
       "device_type          5\n",
       "device               8\n",
       "browser             13\n",
       "lang               111\n",
       "varpp              962\n",
       "varcc              651\n",
       "isp              10493\n",
       "mobile_isp         433\n",
       "proxy                2\n",
       "netspeed            10\n",
       "dtype: int64"
      ]
     },
     "execution_count": 16,
     "metadata": {},
     "output_type": "execute_result"
    }
   ],
   "source": [
    "print(f'Number of unique values in columns')\n",
    "train.nunique()"
   ]
  },
  {
   "cell_type": "markdown",
   "metadata": {},
   "source": [
    "Многие категориальные признаки имеют огромное количество уникальных значений, следовательно, поворот в One-Hot будет затруднительно из-за расходов памяти на дико разреженную матрицу признаков."
   ]
  },
  {
   "cell_type": "code",
   "execution_count": 17,
   "metadata": {},
   "outputs": [],
   "source": [
    "fs = FeatureSelector(data=train, labels=label)"
   ]
  },
  {
   "cell_type": "code",
   "execution_count": 18,
   "metadata": {},
   "outputs": [
    {
     "name": "stdout",
     "output_type": "stream",
     "text": [
      "1 features with greater than 0.60 missing values.\n",
      "\n"
     ]
    }
   ],
   "source": [
    "fs.identify_missing(missing_threshold=0.6)"
   ]
  },
  {
   "cell_type": "code",
   "execution_count": 19,
   "metadata": {},
   "outputs": [
    {
     "data": {
      "text/html": [
       "<div>\n",
       "<style scoped>\n",
       "    .dataframe tbody tr th:only-of-type {\n",
       "        vertical-align: middle;\n",
       "    }\n",
       "\n",
       "    .dataframe tbody tr th {\n",
       "        vertical-align: top;\n",
       "    }\n",
       "\n",
       "    .dataframe thead th {\n",
       "        text-align: right;\n",
       "    }\n",
       "</style>\n",
       "<table border=\"1\" class=\"dataframe\">\n",
       "  <thead>\n",
       "    <tr style=\"text-align: right;\">\n",
       "      <th></th>\n",
       "      <th>missing_fraction</th>\n",
       "    </tr>\n",
       "  </thead>\n",
       "  <tbody>\n",
       "    <tr>\n",
       "      <th>offer_id</th>\n",
       "      <td>0.61</td>\n",
       "    </tr>\n",
       "    <tr>\n",
       "      <th>geo</th>\n",
       "      <td>0.00</td>\n",
       "    </tr>\n",
       "    <tr>\n",
       "      <th>banner_id</th>\n",
       "      <td>0.00</td>\n",
       "    </tr>\n",
       "    <tr>\n",
       "      <th>device_type</th>\n",
       "      <td>0.00</td>\n",
       "    </tr>\n",
       "    <tr>\n",
       "      <th>proxy</th>\n",
       "      <td>0.00</td>\n",
       "    </tr>\n",
       "  </tbody>\n",
       "</table>\n",
       "</div>"
      ],
      "text/plain": [
       "             missing_fraction\n",
       "offer_id                 0.61\n",
       "geo                      0.00\n",
       "banner_id                0.00\n",
       "device_type              0.00\n",
       "proxy                    0.00"
      ]
     },
     "execution_count": 19,
     "metadata": {},
     "output_type": "execute_result"
    }
   ],
   "source": [
    "fs.missing_stats.head()"
   ]
  },
  {
   "cell_type": "code",
   "execution_count": 20,
   "metadata": {},
   "outputs": [
    {
     "name": "stdout",
     "output_type": "stream",
     "text": [
      "0 features with a correlation magnitude greater than 0.80.\n",
      "\n"
     ]
    },
    {
     "data": {
      "image/png": "[encoded data removed]",
      "text/plain": [
       "<Figure size 720x576 with 2 Axes>"
      ]
     },
     "metadata": {
      "image/png": {
       "height": 514,
       "width": 577
      }
     },
     "output_type": "display_data"
    }
   ],
   "source": [
    "fs.identify_collinear(correlation_threshold=0.8)\n",
    "fs.plot_collinear(plot_all=True)"
   ]
  },
  {
   "cell_type": "markdown",
   "metadata": {},
   "source": [
    "Между varpp и varcc есть небольшая допустимая корреляция, varp с остальными кореллирует мало.\n"
   ]
  },
  {
   "cell_type": "code",
   "execution_count": 21,
   "metadata": {},
   "outputs": [
    {
     "name": "stdout",
     "output_type": "stream",
     "text": [
      "<class 'pandas.core.frame.DataFrame'>\n",
      "Int64Index: 50000 entries, 107853 to 295595\n",
      "Data columns (total 22 columns):\n",
      "banner_id        50000 non-null object\n",
      "advertiser_id    50000 non-null object\n",
      "offer_id         19785 non-null object\n",
      "zone_id          50000 non-null object\n",
      "affiliate_id     50000 non-null object\n",
      "geo              49996 non-null object\n",
      "region_code      50000 non-null object\n",
      "city_code        50000 non-null object\n",
      "varp             50000 non-null float64\n",
      "os_type          50000 non-null object\n",
      "os               50000 non-null object\n",
      "os_version       50000 non-null object\n",
      "device_type      50000 non-null object\n",
      "device           50000 non-null object\n",
      "browser          50000 non-null object\n",
      "lang             50000 non-null object\n",
      "varpp            50000 non-null float64\n",
      "varcc            50000 non-null float64\n",
      "isp              50000 non-null object\n",
      "mobile_isp       50000 non-null object\n",
      "proxy            50000 non-null int64\n",
      "netspeed         50000 non-null object\n",
      "dtypes: float64(3), int64(1), object(18)\n",
      "memory usage: 8.8+ MB\n"
     ]
    }
   ],
   "source": [
    "from sklearn.model_selection import train_test_split\n",
    "\n",
    "drop_size = .95\n",
    "train_s, _, label_s, _ = train_test_split(train, label, test_size=drop_size, stratify=label, random_state=42)\n",
    "#df_sample = df.sample(frac=.02)\n",
    "#train = df_sample.drop(columns=df.columns[-3:]).drop(columns='date_time')\n",
    "#label = df_sample['conversions']\n",
    "train_s.info()"
   ]
  },
  {
   "cell_type": "code",
   "execution_count": 23,
   "metadata": {},
   "outputs": [],
   "source": [
    "# train_s = pd.get_dummies(train_s, columns=categorical_without_nans)\n",
    "# train_s = pd.get_dummies(train_s, columns=categorical_with_nans, dummy_na=True)\n",
    "# train_s.info()"
   ]
  },
  {
   "cell_type": "code",
   "execution_count": 24,
   "metadata": {},
   "outputs": [
    {
     "name": "stdout",
     "output_type": "stream",
     "text": [
      "1 features with greater than 0.60 missing values.\n",
      "\n",
      "0 features with a single unique value.\n",
      "\n",
      "0 features with a correlation magnitude greater than 0.75.\n",
      "\n",
      "Training Gradient Boosting Model\n",
      "\n",
      "Training until validation scores don't improve for 100 rounds.\n",
      "Early stopping, best iteration is:\n",
      "[17]\tvalid_0's auc: 0.792704\n",
      "Training until validation scores don't improve for 100 rounds.\n",
      "Early stopping, best iteration is:\n",
      "[5]\tvalid_0's auc: 0.745199\n",
      "Training until validation scores don't improve for 100 rounds.\n",
      "Early stopping, best iteration is:\n",
      "[105]\tvalid_0's auc: 0.767217\n",
      "Training until validation scores don't improve for 100 rounds.\n",
      "Early stopping, best iteration is:\n",
      "[76]\tvalid_0's auc: 0.779479\n",
      "Training until validation scores don't improve for 100 rounds.\n",
      "Early stopping, best iteration is:\n",
      "[78]\tvalid_0's auc: 0.790685\n",
      "Training until validation scores don't improve for 100 rounds.\n",
      "Early stopping, best iteration is:\n",
      "[32]\tvalid_0's auc: 0.812606\n",
      "Training until validation scores don't improve for 100 rounds.\n",
      "Early stopping, best iteration is:\n",
      "[240]\tvalid_0's auc: 0.841177\n",
      "Training until validation scores don't improve for 100 rounds.\n",
      "Early stopping, best iteration is:\n",
      "[52]\tvalid_0's auc: 0.694487\n",
      "Training until validation scores don't improve for 100 rounds.\n",
      "Early stopping, best iteration is:\n",
      "[90]\tvalid_0's auc: 0.773667\n",
      "Training until validation scores don't improve for 100 rounds.\n",
      "Early stopping, best iteration is:\n",
      "[49]\tvalid_0's auc: 0.817562\n",
      "\n",
      "21766 features with zero importance after one-hot encoding.\n",
      "\n",
      "135 features required for cumulative importance of 0.60 after one hot encoding.\n",
      "22220 features do not contribute to cumulative importance of 0.60.\n",
      "\n",
      "22221 total features out of 22373 identified for removal after one-hot encoding.\n",
      "\n"
     ]
    }
   ],
   "source": [
    "fs = FeatureSelector(data=train_s, labels=label_s)\n",
    "\n",
    "fs.identify_all(selection_params = {'missing_threshold': 0.6,    \n",
    "                                    'correlation_threshold': 0.75, \n",
    "                                    'task': 'classification',    \n",
    "                                    'eval_metric': 'auc', \n",
    "                                    'cumulative_importance': 0.6,\n",
    "                                    'early_stopping': True})"
   ]
  },
  {
   "cell_type": "code",
   "execution_count": 25,
   "metadata": {
    "scrolled": true
   },
   "outputs": [
    {
     "data": {
      "text/html": [
       "<div>\n",
       "<style scoped>\n",
       "    .dataframe tbody tr th:only-of-type {\n",
       "        vertical-align: middle;\n",
       "    }\n",
       "\n",
       "    .dataframe tbody tr th {\n",
       "        vertical-align: top;\n",
       "    }\n",
       "\n",
       "    .dataframe thead th {\n",
       "        text-align: right;\n",
       "    }\n",
       "</style>\n",
       "<table border=\"1\" class=\"dataframe\">\n",
       "  <thead>\n",
       "    <tr style=\"text-align: right;\">\n",
       "      <th></th>\n",
       "      <th>feature</th>\n",
       "      <th>importance</th>\n",
       "      <th>normalized_importance</th>\n",
       "      <th>cumulative_importance</th>\n",
       "    </tr>\n",
       "  </thead>\n",
       "  <tbody>\n",
       "    <tr>\n",
       "      <th>0</th>\n",
       "      <td>varpp</td>\n",
       "      <td>128.40</td>\n",
       "      <td>0.06</td>\n",
       "      <td>0.06</td>\n",
       "    </tr>\n",
       "    <tr>\n",
       "      <th>1</th>\n",
       "      <td>varcc</td>\n",
       "      <td>50.40</td>\n",
       "      <td>0.02</td>\n",
       "      <td>0.08</td>\n",
       "    </tr>\n",
       "    <tr>\n",
       "      <th>2</th>\n",
       "      <td>os_version_win7</td>\n",
       "      <td>28.50</td>\n",
       "      <td>0.01</td>\n",
       "      <td>0.09</td>\n",
       "    </tr>\n",
       "    <tr>\n",
       "      <th>3</th>\n",
       "      <td>zone_id_13732852.0</td>\n",
       "      <td>25.20</td>\n",
       "      <td>0.01</td>\n",
       "      <td>0.10</td>\n",
       "    </tr>\n",
       "    <tr>\n",
       "      <th>4</th>\n",
       "      <td>banner_id_23012989.0</td>\n",
       "      <td>23.60</td>\n",
       "      <td>0.01</td>\n",
       "      <td>0.11</td>\n",
       "    </tr>\n",
       "    <tr>\n",
       "      <th>5</th>\n",
       "      <td>netspeed_BROADBAND</td>\n",
       "      <td>22.10</td>\n",
       "      <td>0.01</td>\n",
       "      <td>0.12</td>\n",
       "    </tr>\n",
       "    <tr>\n",
       "      <th>6</th>\n",
       "      <td>mobile_isp_0.0</td>\n",
       "      <td>22.00</td>\n",
       "      <td>0.01</td>\n",
       "      <td>0.13</td>\n",
       "    </tr>\n",
       "    <tr>\n",
       "      <th>7</th>\n",
       "      <td>browser_chrome</td>\n",
       "      <td>20.70</td>\n",
       "      <td>0.01</td>\n",
       "      <td>0.14</td>\n",
       "    </tr>\n",
       "    <tr>\n",
       "      <th>8</th>\n",
       "      <td>device_type_phone</td>\n",
       "      <td>20.20</td>\n",
       "      <td>0.01</td>\n",
       "      <td>0.15</td>\n",
       "    </tr>\n",
       "    <tr>\n",
       "      <th>9</th>\n",
       "      <td>lang_en</td>\n",
       "      <td>19.60</td>\n",
       "      <td>0.01</td>\n",
       "      <td>0.16</td>\n",
       "    </tr>\n",
       "    <tr>\n",
       "      <th>10</th>\n",
       "      <td>browser_fb</td>\n",
       "      <td>18.00</td>\n",
       "      <td>0.01</td>\n",
       "      <td>0.17</td>\n",
       "    </tr>\n",
       "    <tr>\n",
       "      <th>11</th>\n",
       "      <td>os_version_android5</td>\n",
       "      <td>16.60</td>\n",
       "      <td>0.01</td>\n",
       "      <td>0.18</td>\n",
       "    </tr>\n",
       "    <tr>\n",
       "      <th>12</th>\n",
       "      <td>os_version_win10</td>\n",
       "      <td>14.80</td>\n",
       "      <td>0.01</td>\n",
       "      <td>0.18</td>\n",
       "    </tr>\n",
       "    <tr>\n",
       "      <th>13</th>\n",
       "      <td>zone_id_13014907.0</td>\n",
       "      <td>14.50</td>\n",
       "      <td>0.01</td>\n",
       "      <td>0.19</td>\n",
       "    </tr>\n",
       "    <tr>\n",
       "      <th>14</th>\n",
       "      <td>city_code_10358.0</td>\n",
       "      <td>14.50</td>\n",
       "      <td>0.01</td>\n",
       "      <td>0.20</td>\n",
       "    </tr>\n",
       "    <tr>\n",
       "      <th>15</th>\n",
       "      <td>os_version_win8</td>\n",
       "      <td>13.30</td>\n",
       "      <td>0.01</td>\n",
       "      <td>0.20</td>\n",
       "    </tr>\n",
       "    <tr>\n",
       "      <th>16</th>\n",
       "      <td>isp_102005.0</td>\n",
       "      <td>13.20</td>\n",
       "      <td>0.01</td>\n",
       "      <td>0.21</td>\n",
       "    </tr>\n",
       "    <tr>\n",
       "      <th>17</th>\n",
       "      <td>advertiser_id_364023.0</td>\n",
       "      <td>13.10</td>\n",
       "      <td>0.01</td>\n",
       "      <td>0.21</td>\n",
       "    </tr>\n",
       "    <tr>\n",
       "      <th>18</th>\n",
       "      <td>os_version_android6</td>\n",
       "      <td>12.80</td>\n",
       "      <td>0.01</td>\n",
       "      <td>0.22</td>\n",
       "    </tr>\n",
       "    <tr>\n",
       "      <th>19</th>\n",
       "      <td>isp_0.0</td>\n",
       "      <td>12.70</td>\n",
       "      <td>0.01</td>\n",
       "      <td>0.23</td>\n",
       "    </tr>\n",
       "    <tr>\n",
       "      <th>20</th>\n",
       "      <td>isp_85721.0</td>\n",
       "      <td>12.70</td>\n",
       "      <td>0.01</td>\n",
       "      <td>0.23</td>\n",
       "    </tr>\n",
       "    <tr>\n",
       "      <th>21</th>\n",
       "      <td>banner_id_22791771.0</td>\n",
       "      <td>12.30</td>\n",
       "      <td>0.01</td>\n",
       "      <td>0.24</td>\n",
       "    </tr>\n",
       "    <tr>\n",
       "      <th>22</th>\n",
       "      <td>os_version_android4</td>\n",
       "      <td>12.20</td>\n",
       "      <td>0.01</td>\n",
       "      <td>0.24</td>\n",
       "    </tr>\n",
       "    <tr>\n",
       "      <th>23</th>\n",
       "      <td>zone_id_11419795.0</td>\n",
       "      <td>12.00</td>\n",
       "      <td>0.01</td>\n",
       "      <td>0.25</td>\n",
       "    </tr>\n",
       "    <tr>\n",
       "      <th>24</th>\n",
       "      <td>banner_id_23702003.0</td>\n",
       "      <td>12.00</td>\n",
       "      <td>0.01</td>\n",
       "      <td>0.25</td>\n",
       "    </tr>\n",
       "    <tr>\n",
       "      <th>25</th>\n",
       "      <td>banner_id_18814469.0</td>\n",
       "      <td>11.90</td>\n",
       "      <td>0.01</td>\n",
       "      <td>0.26</td>\n",
       "    </tr>\n",
       "    <tr>\n",
       "      <th>26</th>\n",
       "      <td>device_type_tablet</td>\n",
       "      <td>11.90</td>\n",
       "      <td>0.01</td>\n",
       "      <td>0.26</td>\n",
       "    </tr>\n",
       "    <tr>\n",
       "      <th>27</th>\n",
       "      <td>isp_22364.0</td>\n",
       "      <td>11.90</td>\n",
       "      <td>0.01</td>\n",
       "      <td>0.27</td>\n",
       "    </tr>\n",
       "    <tr>\n",
       "      <th>28</th>\n",
       "      <td>geo_IN</td>\n",
       "      <td>11.80</td>\n",
       "      <td>0.01</td>\n",
       "      <td>0.27</td>\n",
       "    </tr>\n",
       "    <tr>\n",
       "      <th>29</th>\n",
       "      <td>netspeed_XDSL</td>\n",
       "      <td>11.80</td>\n",
       "      <td>0.01</td>\n",
       "      <td>0.28</td>\n",
       "    </tr>\n",
       "    <tr>\n",
       "      <th>...</th>\n",
       "      <td>...</td>\n",
       "      <td>...</td>\n",
       "      <td>...</td>\n",
       "      <td>...</td>\n",
       "    </tr>\n",
       "    <tr>\n",
       "      <th>7821</th>\n",
       "      <td>isp_119807.0</td>\n",
       "      <td>0.00</td>\n",
       "      <td>0.00</td>\n",
       "      <td>1.00</td>\n",
       "    </tr>\n",
       "    <tr>\n",
       "      <th>7820</th>\n",
       "      <td>isp_118940.0</td>\n",
       "      <td>0.00</td>\n",
       "      <td>0.00</td>\n",
       "      <td>1.00</td>\n",
       "    </tr>\n",
       "    <tr>\n",
       "      <th>7819</th>\n",
       "      <td>isp_118949.0</td>\n",
       "      <td>0.00</td>\n",
       "      <td>0.00</td>\n",
       "      <td>1.00</td>\n",
       "    </tr>\n",
       "    <tr>\n",
       "      <th>7818</th>\n",
       "      <td>isp_119015.0</td>\n",
       "      <td>0.00</td>\n",
       "      <td>0.00</td>\n",
       "      <td>1.00</td>\n",
       "    </tr>\n",
       "    <tr>\n",
       "      <th>7817</th>\n",
       "      <td>isp_119090.0</td>\n",
       "      <td>0.00</td>\n",
       "      <td>0.00</td>\n",
       "      <td>1.00</td>\n",
       "    </tr>\n",
       "    <tr>\n",
       "      <th>7816</th>\n",
       "      <td>isp_119105.0</td>\n",
       "      <td>0.00</td>\n",
       "      <td>0.00</td>\n",
       "      <td>1.00</td>\n",
       "    </tr>\n",
       "    <tr>\n",
       "      <th>7833</th>\n",
       "      <td>isp_120218.0</td>\n",
       "      <td>0.00</td>\n",
       "      <td>0.00</td>\n",
       "      <td>1.00</td>\n",
       "    </tr>\n",
       "    <tr>\n",
       "      <th>7834</th>\n",
       "      <td>isp_120209.0</td>\n",
       "      <td>0.00</td>\n",
       "      <td>0.00</td>\n",
       "      <td>1.00</td>\n",
       "    </tr>\n",
       "    <tr>\n",
       "      <th>7835</th>\n",
       "      <td>isp_120200.0</td>\n",
       "      <td>0.00</td>\n",
       "      <td>0.00</td>\n",
       "      <td>1.00</td>\n",
       "    </tr>\n",
       "    <tr>\n",
       "      <th>7836</th>\n",
       "      <td>isp_120134.0</td>\n",
       "      <td>0.00</td>\n",
       "      <td>0.00</td>\n",
       "      <td>1.00</td>\n",
       "    </tr>\n",
       "    <tr>\n",
       "      <th>7854</th>\n",
       "      <td>mobile_isp_428.0</td>\n",
       "      <td>0.00</td>\n",
       "      <td>0.00</td>\n",
       "      <td>1.00</td>\n",
       "    </tr>\n",
       "    <tr>\n",
       "      <th>7853</th>\n",
       "      <td>mobile_isp_437.0</td>\n",
       "      <td>0.00</td>\n",
       "      <td>0.00</td>\n",
       "      <td>1.00</td>\n",
       "    </tr>\n",
       "    <tr>\n",
       "      <th>7852</th>\n",
       "      <td>mobile_isp_446.0</td>\n",
       "      <td>0.00</td>\n",
       "      <td>0.00</td>\n",
       "      <td>1.00</td>\n",
       "    </tr>\n",
       "    <tr>\n",
       "      <th>7851</th>\n",
       "      <td>mobile_isp_449.0</td>\n",
       "      <td>0.00</td>\n",
       "      <td>0.00</td>\n",
       "      <td>1.00</td>\n",
       "    </tr>\n",
       "    <tr>\n",
       "      <th>7850</th>\n",
       "      <td>mobile_isp_452.0</td>\n",
       "      <td>0.00</td>\n",
       "      <td>0.00</td>\n",
       "      <td>1.00</td>\n",
       "    </tr>\n",
       "    <tr>\n",
       "      <th>7849</th>\n",
       "      <td>mobile_isp_458.0</td>\n",
       "      <td>0.00</td>\n",
       "      <td>0.00</td>\n",
       "      <td>1.00</td>\n",
       "    </tr>\n",
       "    <tr>\n",
       "      <th>7848</th>\n",
       "      <td>mobile_isp_464.0</td>\n",
       "      <td>0.00</td>\n",
       "      <td>0.00</td>\n",
       "      <td>1.00</td>\n",
       "    </tr>\n",
       "    <tr>\n",
       "      <th>7847</th>\n",
       "      <td>mobile_isp_467.0</td>\n",
       "      <td>0.00</td>\n",
       "      <td>0.00</td>\n",
       "      <td>1.00</td>\n",
       "    </tr>\n",
       "    <tr>\n",
       "      <th>7856</th>\n",
       "      <td>mobile_isp_425.0</td>\n",
       "      <td>0.00</td>\n",
       "      <td>0.00</td>\n",
       "      <td>1.00</td>\n",
       "    </tr>\n",
       "    <tr>\n",
       "      <th>7846</th>\n",
       "      <td>mobile_isp_476.0</td>\n",
       "      <td>0.00</td>\n",
       "      <td>0.00</td>\n",
       "      <td>1.00</td>\n",
       "    </tr>\n",
       "    <tr>\n",
       "      <th>7844</th>\n",
       "      <td>mobile_isp_170.0</td>\n",
       "      <td>0.00</td>\n",
       "      <td>0.00</td>\n",
       "      <td>1.00</td>\n",
       "    </tr>\n",
       "    <tr>\n",
       "      <th>7843</th>\n",
       "      <td>mobile_isp_167.0</td>\n",
       "      <td>0.00</td>\n",
       "      <td>0.00</td>\n",
       "      <td>1.00</td>\n",
       "    </tr>\n",
       "    <tr>\n",
       "      <th>7842</th>\n",
       "      <td>mobile_isp_161.0</td>\n",
       "      <td>0.00</td>\n",
       "      <td>0.00</td>\n",
       "      <td>1.00</td>\n",
       "    </tr>\n",
       "    <tr>\n",
       "      <th>7841</th>\n",
       "      <td>isp_119969.0</td>\n",
       "      <td>0.00</td>\n",
       "      <td>0.00</td>\n",
       "      <td>1.00</td>\n",
       "    </tr>\n",
       "    <tr>\n",
       "      <th>7840</th>\n",
       "      <td>isp_119981.0</td>\n",
       "      <td>0.00</td>\n",
       "      <td>0.00</td>\n",
       "      <td>1.00</td>\n",
       "    </tr>\n",
       "    <tr>\n",
       "      <th>7839</th>\n",
       "      <td>isp_120017.0</td>\n",
       "      <td>0.00</td>\n",
       "      <td>0.00</td>\n",
       "      <td>1.00</td>\n",
       "    </tr>\n",
       "    <tr>\n",
       "      <th>7838</th>\n",
       "      <td>isp_120032.0</td>\n",
       "      <td>0.00</td>\n",
       "      <td>0.00</td>\n",
       "      <td>1.00</td>\n",
       "    </tr>\n",
       "    <tr>\n",
       "      <th>7837</th>\n",
       "      <td>isp_120107.0</td>\n",
       "      <td>0.00</td>\n",
       "      <td>0.00</td>\n",
       "      <td>1.00</td>\n",
       "    </tr>\n",
       "    <tr>\n",
       "      <th>7845</th>\n",
       "      <td>mobile_isp_434.0</td>\n",
       "      <td>0.00</td>\n",
       "      <td>0.00</td>\n",
       "      <td>1.00</td>\n",
       "    </tr>\n",
       "    <tr>\n",
       "      <th>22354</th>\n",
       "      <td>city_code_12247.0</td>\n",
       "      <td>0.00</td>\n",
       "      <td>0.00</td>\n",
       "      <td>1.00</td>\n",
       "    </tr>\n",
       "  </tbody>\n",
       "</table>\n",
       "<p>22355 rows × 4 columns</p>\n",
       "</div>"
      ],
      "text/plain": [
       "                      feature  importance  normalized_importance  \\\n",
       "0                       varpp      128.40                   0.06   \n",
       "1                       varcc       50.40                   0.02   \n",
       "2             os_version_win7       28.50                   0.01   \n",
       "3          zone_id_13732852.0       25.20                   0.01   \n",
       "4        banner_id_23012989.0       23.60                   0.01   \n",
       "5          netspeed_BROADBAND       22.10                   0.01   \n",
       "6              mobile_isp_0.0       22.00                   0.01   \n",
       "7              browser_chrome       20.70                   0.01   \n",
       "8           device_type_phone       20.20                   0.01   \n",
       "9                     lang_en       19.60                   0.01   \n",
       "10                 browser_fb       18.00                   0.01   \n",
       "11        os_version_android5       16.60                   0.01   \n",
       "12           os_version_win10       14.80                   0.01   \n",
       "13         zone_id_13014907.0       14.50                   0.01   \n",
       "14          city_code_10358.0       14.50                   0.01   \n",
       "15            os_version_win8       13.30                   0.01   \n",
       "16               isp_102005.0       13.20                   0.01   \n",
       "17     advertiser_id_364023.0       13.10                   0.01   \n",
       "18        os_version_android6       12.80                   0.01   \n",
       "19                    isp_0.0       12.70                   0.01   \n",
       "20                isp_85721.0       12.70                   0.01   \n",
       "21       banner_id_22791771.0       12.30                   0.01   \n",
       "22        os_version_android4       12.20                   0.01   \n",
       "23         zone_id_11419795.0       12.00                   0.01   \n",
       "24       banner_id_23702003.0       12.00                   0.01   \n",
       "25       banner_id_18814469.0       11.90                   0.01   \n",
       "26         device_type_tablet       11.90                   0.01   \n",
       "27                isp_22364.0       11.90                   0.01   \n",
       "28                     geo_IN       11.80                   0.01   \n",
       "29              netspeed_XDSL       11.80                   0.01   \n",
       "...                       ...         ...                    ...   \n",
       "7821             isp_119807.0        0.00                   0.00   \n",
       "7820             isp_118940.0        0.00                   0.00   \n",
       "7819             isp_118949.0        0.00                   0.00   \n",
       "7818             isp_119015.0        0.00                   0.00   \n",
       "7817             isp_119090.0        0.00                   0.00   \n",
       "7816             isp_119105.0        0.00                   0.00   \n",
       "7833             isp_120218.0        0.00                   0.00   \n",
       "7834             isp_120209.0        0.00                   0.00   \n",
       "7835             isp_120200.0        0.00                   0.00   \n",
       "7836             isp_120134.0        0.00                   0.00   \n",
       "7854         mobile_isp_428.0        0.00                   0.00   \n",
       "7853         mobile_isp_437.0        0.00                   0.00   \n",
       "7852         mobile_isp_446.0        0.00                   0.00   \n",
       "7851         mobile_isp_449.0        0.00                   0.00   \n",
       "7850         mobile_isp_452.0        0.00                   0.00   \n",
       "7849         mobile_isp_458.0        0.00                   0.00   \n",
       "7848         mobile_isp_464.0        0.00                   0.00   \n",
       "7847         mobile_isp_467.0        0.00                   0.00   \n",
       "7856         mobile_isp_425.0        0.00                   0.00   \n",
       "7846         mobile_isp_476.0        0.00                   0.00   \n",
       "7844         mobile_isp_170.0        0.00                   0.00   \n",
       "7843         mobile_isp_167.0        0.00                   0.00   \n",
       "7842         mobile_isp_161.0        0.00                   0.00   \n",
       "7841             isp_119969.0        0.00                   0.00   \n",
       "7840             isp_119981.0        0.00                   0.00   \n",
       "7839             isp_120017.0        0.00                   0.00   \n",
       "7838             isp_120032.0        0.00                   0.00   \n",
       "7837             isp_120107.0        0.00                   0.00   \n",
       "7845         mobile_isp_434.0        0.00                   0.00   \n",
       "22354       city_code_12247.0        0.00                   0.00   \n",
       "\n",
       "       cumulative_importance  \n",
       "0                       0.06  \n",
       "1                       0.08  \n",
       "2                       0.09  \n",
       "3                       0.10  \n",
       "4                       0.11  \n",
       "5                       0.12  \n",
       "6                       0.13  \n",
       "7                       0.14  \n",
       "8                       0.15  \n",
       "9                       0.16  \n",
       "10                      0.17  \n",
       "11                      0.18  \n",
       "12                      0.18  \n",
       "13                      0.19  \n",
       "14                      0.20  \n",
       "15                      0.20  \n",
       "16                      0.21  \n",
       "17                      0.21  \n",
       "18                      0.22  \n",
       "19                      0.23  \n",
       "20                      0.23  \n",
       "21                      0.24  \n",
       "22                      0.24  \n",
       "23                      0.25  \n",
       "24                      0.25  \n",
       "25                      0.26  \n",
       "26                      0.26  \n",
       "27                      0.27  \n",
       "28                      0.27  \n",
       "29                      0.28  \n",
       "...                      ...  \n",
       "7821                    1.00  \n",
       "7820                    1.00  \n",
       "7819                    1.00  \n",
       "7818                    1.00  \n",
       "7817                    1.00  \n",
       "7816                    1.00  \n",
       "7833                    1.00  \n",
       "7834                    1.00  \n",
       "7835                    1.00  \n",
       "7836                    1.00  \n",
       "7854                    1.00  \n",
       "7853                    1.00  \n",
       "7852                    1.00  \n",
       "7851                    1.00  \n",
       "7850                    1.00  \n",
       "7849                    1.00  \n",
       "7848                    1.00  \n",
       "7847                    1.00  \n",
       "7856                    1.00  \n",
       "7846                    1.00  \n",
       "7844                    1.00  \n",
       "7843                    1.00  \n",
       "7842                    1.00  \n",
       "7841                    1.00  \n",
       "7840                    1.00  \n",
       "7839                    1.00  \n",
       "7838                    1.00  \n",
       "7837                    1.00  \n",
       "7845                    1.00  \n",
       "22354                   1.00  \n",
       "\n",
       "[22355 rows x 4 columns]"
      ]
     },
     "execution_count": 25,
     "metadata": {},
     "output_type": "execute_result"
    }
   ],
   "source": [
    "fs.feature_importances"
   ]
  },
  {
   "cell_type": "code",
   "execution_count": 108,
   "metadata": {},
   "outputs": [
    {
     "data": {
      "image/png": "[encoded data removed]",
      "text/plain": [
       "<Figure size 1000x600 with 1 Axes>"
      ]
     },
     "metadata": {
      "image/png": {
       "height": 555,
       "width": 1016
      }
     },
     "output_type": "display_data"
    },
    {
     "data": {
      "image/png": "[encoded data removed]",
      "text/plain": [
       "<Figure size 600x400 with 1 Axes>"
      ]
     },
     "metadata": {
      "image/png": {
       "height": 399,
       "width": 549
      }
     },
     "output_type": "display_data"
    }
   ],
   "source": [
    "fs.plot_feature_importances(plot_n=20)"
   ]
  },
  {
   "cell_type": "markdown",
   "metadata": {},
   "source": [
    "## Восстановим изначальные признаки из OHE-производных"
   ]
  },
  {
   "cell_type": "code",
   "execution_count": 145,
   "metadata": {},
   "outputs": [
    {
     "data": {
      "text/html": [
       "<div>\n",
       "<style scoped>\n",
       "    .dataframe tbody tr th:only-of-type {\n",
       "        vertical-align: middle;\n",
       "    }\n",
       "\n",
       "    .dataframe tbody tr th {\n",
       "        vertical-align: top;\n",
       "    }\n",
       "\n",
       "    .dataframe thead th {\n",
       "        text-align: right;\n",
       "    }\n",
       "</style>\n",
       "<table border=\"1\" class=\"dataframe\">\n",
       "  <thead>\n",
       "    <tr style=\"text-align: right;\">\n",
       "      <th></th>\n",
       "      <th>features</th>\n",
       "      <th>nonzero</th>\n",
       "      <th>zero</th>\n",
       "      <th>ratio</th>\n",
       "    </tr>\n",
       "  </thead>\n",
       "  <tbody>\n",
       "    <tr>\n",
       "      <th>13</th>\n",
       "      <td>browser</td>\n",
       "      <td>11</td>\n",
       "      <td>2</td>\n",
       "      <td>0.85</td>\n",
       "    </tr>\n",
       "    <tr>\n",
       "      <th>17</th>\n",
       "      <td>netspeed</td>\n",
       "      <td>7</td>\n",
       "      <td>2</td>\n",
       "      <td>0.78</td>\n",
       "    </tr>\n",
       "    <tr>\n",
       "      <th>3</th>\n",
       "      <td>zone_id</td>\n",
       "      <td>74</td>\n",
       "      <td>26</td>\n",
       "      <td>0.74</td>\n",
       "    </tr>\n",
       "    <tr>\n",
       "      <th>11</th>\n",
       "      <td>device_type</td>\n",
       "      <td>3</td>\n",
       "      <td>2</td>\n",
       "      <td>0.60</td>\n",
       "    </tr>\n",
       "    <tr>\n",
       "      <th>12</th>\n",
       "      <td>device</td>\n",
       "      <td>6</td>\n",
       "      <td>6</td>\n",
       "      <td>0.50</td>\n",
       "    </tr>\n",
       "    <tr>\n",
       "      <th>9</th>\n",
       "      <td>os</td>\n",
       "      <td>19</td>\n",
       "      <td>21</td>\n",
       "      <td>0.47</td>\n",
       "    </tr>\n",
       "    <tr>\n",
       "      <th>10</th>\n",
       "      <td>os_version</td>\n",
       "      <td>13</td>\n",
       "      <td>15</td>\n",
       "      <td>0.46</td>\n",
       "    </tr>\n",
       "    <tr>\n",
       "      <th>8</th>\n",
       "      <td>os_type</td>\n",
       "      <td>1</td>\n",
       "      <td>2</td>\n",
       "      <td>0.33</td>\n",
       "    </tr>\n",
       "    <tr>\n",
       "      <th>14</th>\n",
       "      <td>lang</td>\n",
       "      <td>17</td>\n",
       "      <td>39</td>\n",
       "      <td>0.30</td>\n",
       "    </tr>\n",
       "    <tr>\n",
       "      <th>5</th>\n",
       "      <td>geo</td>\n",
       "      <td>39</td>\n",
       "      <td>138</td>\n",
       "      <td>0.22</td>\n",
       "    </tr>\n",
       "    <tr>\n",
       "      <th>6</th>\n",
       "      <td>region_code</td>\n",
       "      <td>94</td>\n",
       "      <td>1515</td>\n",
       "      <td>0.06</td>\n",
       "    </tr>\n",
       "    <tr>\n",
       "      <th>1</th>\n",
       "      <td>advertiser_id</td>\n",
       "      <td>67</td>\n",
       "      <td>1201</td>\n",
       "      <td>0.05</td>\n",
       "    </tr>\n",
       "    <tr>\n",
       "      <th>16</th>\n",
       "      <td>mobile_isp</td>\n",
       "      <td>14</td>\n",
       "      <td>285</td>\n",
       "      <td>0.05</td>\n",
       "    </tr>\n",
       "    <tr>\n",
       "      <th>2</th>\n",
       "      <td>offer_id</td>\n",
       "      <td>14</td>\n",
       "      <td>391</td>\n",
       "      <td>0.03</td>\n",
       "    </tr>\n",
       "    <tr>\n",
       "      <th>4</th>\n",
       "      <td>affiliate_id</td>\n",
       "      <td>3</td>\n",
       "      <td>94</td>\n",
       "      <td>0.03</td>\n",
       "    </tr>\n",
       "    <tr>\n",
       "      <th>15</th>\n",
       "      <td>isp</td>\n",
       "      <td>99</td>\n",
       "      <td>3310</td>\n",
       "      <td>0.03</td>\n",
       "    </tr>\n",
       "    <tr>\n",
       "      <th>0</th>\n",
       "      <td>banner_id</td>\n",
       "      <td>81</td>\n",
       "      <td>4502</td>\n",
       "      <td>0.02</td>\n",
       "    </tr>\n",
       "    <tr>\n",
       "      <th>7</th>\n",
       "      <td>city_code</td>\n",
       "      <td>54</td>\n",
       "      <td>10519</td>\n",
       "      <td>0.01</td>\n",
       "    </tr>\n",
       "  </tbody>\n",
       "</table>\n",
       "</div>"
      ],
      "text/plain": [
       "         features nonzero   zero  ratio\n",
       "13        browser      11      2   0.85\n",
       "17       netspeed       7      2   0.78\n",
       "3         zone_id      74     26   0.74\n",
       "11    device_type       3      2   0.60\n",
       "12         device       6      6   0.50\n",
       "9              os      19     21   0.47\n",
       "10     os_version      13     15   0.46\n",
       "8         os_type       1      2   0.33\n",
       "14           lang      17     39   0.30\n",
       "5             geo      39    138   0.22\n",
       "6     region_code      94   1515   0.06\n",
       "1   advertiser_id      67   1201   0.05\n",
       "16     mobile_isp      14    285   0.05\n",
       "2        offer_id      14    391   0.03\n",
       "4    affiliate_id       3     94   0.03\n",
       "15            isp      99   3310   0.03\n",
       "0       banner_id      81   4502   0.02\n",
       "7       city_code      54  10519   0.01"
      ]
     },
     "execution_count": 145,
     "metadata": {},
     "output_type": "execute_result"
    }
   ],
   "source": [
    "categorical_columns = categorical_without_nans.append(categorical_with_nans)\n",
    "support = pd.DataFrame([], columns=['features', 'nonzero', 'zero', 'ratio'])\n",
    "\n",
    "for idx, column in enumerate(categorical_columns):\n",
    "    filtered_one_hoted = fs.feature_importances.feature.str.contains(column)  # regex doesn't work\n",
    "    temp = fs.feature_importances[filtered_one_hoted]\n",
    "    non_zero_importance = (temp['importance'] != 0).sum()\n",
    "    zero_importance = (temp['importance'] == 0).sum()\n",
    "    support.loc[idx] = column, non_zero_importance, zero_importance,\\\n",
    "    non_zero_importance/(non_zero_importance + zero_importance)\n",
    "\n",
    "support.sort_values(by='ratio', ascending=False)"
   ]
  },
  {
   "cell_type": "code",
   "execution_count": 26,
   "metadata": {},
   "outputs": [
    {
     "name": "stdout",
     "output_type": "stream",
     "text": [
      "['missing', 'single_unique', 'collinear', 'zero_importance', 'low_importance'] methods have been run\n",
      "\n",
      "Removed 22353 features including one-hot features.\n"
     ]
    }
   ],
   "source": [
    "train_filtered_feats  = fs.remove(methods='all', keep_one_hot=False)"
   ]
  },
  {
   "cell_type": "code",
   "execution_count": 27,
   "metadata": {},
   "outputs": [
    {
     "data": {
      "text/plain": [
       "(20,)"
      ]
     },
     "execution_count": 27,
     "metadata": {},
     "output_type": "execute_result"
    }
   ],
   "source": [
    "train_filtered_feats.columns.shape"
   ]
  },
  {
   "cell_type": "code",
   "execution_count": 28,
   "metadata": {},
   "outputs": [
    {
     "data": {
      "text/plain": [
       "Index(['offer_id', 'proxy'], dtype='object')"
      ]
     },
     "execution_count": 28,
     "metadata": {},
     "output_type": "execute_result"
    }
   ],
   "source": [
    "train.columns.drop(train_filtered_feats)"
   ]
  },
  {
   "cell_type": "markdown",
   "metadata": {},
   "source": [
    "__Замечания__:\n",
    "* offer_id ожидаемо выпал из списка важных признаков.\n",
    "* proxy - сомнительный признак для исключения.\n",
    "---\n",
    "Почему:\n",
    "    Признак proxy сам по себе является не слишком показательным, а вот его инверсивный вариант, возможно, будет важным. Если ввести индикатор *no_proxy*, то он будет указывать на нашу уверенность в достоверности информации об интернет-подключении(провайдер и т.д.) и производных из него - например, гео-признаков. "
   ]
  },
  {
   "cell_type": "markdown",
   "metadata": {},
   "source": [
    "### Проверим количественные признаки."
   ]
  },
  {
   "cell_type": "code",
   "execution_count": 29,
   "metadata": {},
   "outputs": [
    {
     "data": {
      "text/plain": [
       "<matplotlib.axes._subplots.AxesSubplot at 0x7f62241c24e0>"
      ]
     },
     "execution_count": 29,
     "metadata": {},
     "output_type": "execute_result"
    },
    {
     "data": {
      "image/png": "[encoded data removed]",
      "text/plain": [
       "<Figure size 432x288 with 1 Axes>"
      ]
     },
     "metadata": {
      "image/png": {
       "height": 270,
       "width": 405
      }
     },
     "output_type": "display_data"
    }
   ],
   "source": [
    "sns.scatterplot(x=df.bin_conversions, y=df.varcc, hue=df.bin_conversions)"
   ]
  },
  {
   "cell_type": "code",
   "execution_count": 30,
   "metadata": {},
   "outputs": [
    {
     "data": {
      "text/plain": [
       "<matplotlib.axes._subplots.AxesSubplot at 0x7f622430a128>"
      ]
     },
     "execution_count": 30,
     "metadata": {},
     "output_type": "execute_result"
    },
    {
     "data": {
      "image/png": "[encoded data removed]",
      "text/plain": [
       "<Figure size 432x288 with 1 Axes>"
      ]
     },
     "metadata": {
      "image/png": {
       "height": 270,
       "width": 405
      }
     },
     "output_type": "display_data"
    }
   ],
   "source": [
    "sns.scatterplot(x=df.bin_conversions, y=df.varpp, hue=df.bin_conversions)"
   ]
  },
  {
   "cell_type": "code",
   "execution_count": 31,
   "metadata": {},
   "outputs": [
    {
     "data": {
      "text/plain": [
       "<matplotlib.axes._subplots.AxesSubplot at 0x7f6223fb9cc0>"
      ]
     },
     "execution_count": 31,
     "metadata": {},
     "output_type": "execute_result"
    },
    {
     "data": {
      "image/png": "[encoded data removed]",
      "text/plain": [
       "<Figure size 432x288 with 1 Axes>"
      ]
     },
     "metadata": {
      "image/png": {
       "height": 270,
       "width": 384
      }
     },
     "output_type": "display_data"
    }
   ],
   "source": [
    "sns.scatterplot(x=df.bin_conversions, y=df.varp, hue=df.bin_conversions)"
   ]
  },
  {
   "cell_type": "markdown",
   "metadata": {},
   "source": [
    "### У переменных varcc и varcc для каждого значения зависимой переменной есть уникальные значения, а у varp таких значений нет.\n",
    "Следовательно, она может быть нерелевантной."
   ]
  },
  {
   "cell_type": "code",
   "execution_count": 44,
   "metadata": {},
   "outputs": [],
   "source": [
    "from sklearn.feature_selection import f_classif\n",
    "from sklearn.preprocessing import MinMaxScaler\n",
    "\n",
    "scaler = MinMaxScaler()\n",
    "X_num = scaler.fit_transform(df[['varcc', 'varp', 'varpp']].values)\n",
    "y = df.bin_conversions.values\n",
    "\n",
    "f_scores, p_scores = f_classif(X_num, y)"
   ]
  },
  {
   "cell_type": "code",
   "execution_count": 45,
   "metadata": {},
   "outputs": [
    {
     "name": "stdout",
     "output_type": "stream",
     "text": [
      "(69.82414405659642, 'varcc')\n",
      "(4.6355914365105135e-05, 'varp')\n",
      "(61.0591045099958, 'varpp')\n"
     ]
    }
   ],
   "source": [
    "# score of F-test\n",
    "print('{}'.format('\\n'.join(str(x) for x in zip(f_scores, ['varcc', 'varp', 'varpp']))))"
   ]
  },
  {
   "cell_type": "code",
   "execution_count": 46,
   "metadata": {},
   "outputs": [
    {
     "name": "stdout",
     "output_type": "stream",
     "text": [
      "(6.491573163165705e-17, 'varcc')\n",
      "(0.9945676307643212, 'varp')\n",
      "(5.544011267877957e-15, 'varpp')\n"
     ]
    }
   ],
   "source": [
    "# p-value score\n",
    "print('{}'.format('\\n'.join(str(x) for x in zip(p_scores, ['varcc', 'varp', 'varpp']))))"
   ]
  },
  {
   "cell_type": "code",
   "execution_count": 67,
   "metadata": {},
   "outputs": [
    {
     "data": {
      "image/png": "[encoded data removed]",
      "text/plain": [
       "<Figure size 720x360 with 1 Axes>"
      ]
     },
     "metadata": {
      "image/png": {
       "height": 308,
       "width": 602
      }
     },
     "output_type": "display_data"
    }
   ],
   "source": [
    "from sklearn.feature_selection import SelectPercentile\n",
    "\n",
    "X_indices = np.arange(X_num.shape[-1])\n",
    "\n",
    "selector = SelectPercentile(f_classif, percentile=10)\n",
    "selector.fit(X_num, y)\n",
    "scores = -np.log10(selector.pvalues_)\n",
    "scores /= scores.max()\n",
    "\n",
    "fig, ax = plt.subplots(nrows=1, ncols=1, figsize=(10, 5))\n",
    "\n",
    "sns.barplot(X_indices, scores, palette=\"Blues_d\", saturation=1, ax=ax);"
   ]
  },
  {
   "cell_type": "markdown",
   "metadata": {},
   "source": [
    "### Согласно тесту Фишера, 'varp' значимости не имеет. "
   ]
  },
  {
   "cell_type": "code",
   "execution_count": 69,
   "metadata": {},
   "outputs": [
    {
     "name": "stderr",
     "output_type": "stream",
     "text": [
      "/home/dartsirkidman/anaconda3/lib/python3.6/site-packages/scipy/stats/stats.py:1713: FutureWarning: Using a non-tuple sequence for multidimensional indexing is deprecated; use `arr[tuple(seq)]` instead of `arr[seq]`. In the future this will be interpreted as an array index, `arr[np.array(seq)]`, which will result either in an error or a different result.\n",
      "  return np.add.reduce(sorted[indexer] * weights, axis=axis) / sumval\n",
      "/home/dartsirkidman/anaconda3/lib/python3.6/site-packages/statsmodels/nonparametric/kde.py:488: RuntimeWarning: invalid value encountered in true_divide\n",
      "  binned = fast_linbin(X, a, b, gridsize) / (delta * nobs)\n",
      "/home/dartsirkidman/anaconda3/lib/python3.6/site-packages/statsmodels/nonparametric/kdetools.py:34: RuntimeWarning: invalid value encountered in double_scalars\n",
      "  FAC1 = 2*(np.pi*bw/RANGE)**2\n",
      "/home/dartsirkidman/anaconda3/lib/python3.6/site-packages/numpy/core/fromnumeric.py:83: RuntimeWarning: invalid value encountered in reduce\n",
      "  return ufunc.reduce(obj, axis, dtype, out, **passkwargs)\n"
     ]
    },
    {
     "data": {
      "text/plain": [
       "<seaborn.axisgrid.PairGrid at 0x7f621d7a2160>"
      ]
     },
     "execution_count": 69,
     "metadata": {},
     "output_type": "execute_result"
    },
    {
     "data": {
      "image/png": "[encoded data removed]",
      "text/plain": [
       "<Figure size 810.425x720 with 20 Axes>"
      ]
     },
     "metadata": {
      "image/png": {
       "height": 709,
       "width": 811
      }
     },
     "output_type": "display_data"
    }
   ],
   "source": [
    "sns.pairplot(df[['varcc', 'varp', 'varpp', 'bin_conversions']], \n",
    "        hue=\"bin_conversions\", diag_kind=\"kde\")"
   ]
  },
  {
   "cell_type": "code",
   "execution_count": 36,
   "metadata": {},
   "outputs": [],
   "source": [
    "train.drop(columns=['offer_id', 'varp'], inplace=True)\n",
    "\n",
    "for col in ['geo', 'os_type', 'os', 'os_version', 'device_type', 'device', 'browser', 'netspeed', 'lang']:\n",
    "    train[col], _ = train[col].factorize()"
   ]
  },
  {
   "cell_type": "code",
   "execution_count": 41,
   "metadata": {},
   "outputs": [
    {
     "name": "stdout",
     "output_type": "stream",
     "text": [
      "Iteration: \t1 / 100\n",
      "Confirmed: \t0\n",
      "Tentative: \t20\n",
      "Rejected: \t0\n",
      "Iteration: \t2 / 100\n",
      "Confirmed: \t0\n",
      "Tentative: \t20\n",
      "Rejected: \t0\n",
      "Iteration: \t3 / 100\n",
      "Confirmed: \t0\n",
      "Tentative: \t20\n",
      "Rejected: \t0\n",
      "Iteration: \t4 / 100\n",
      "Confirmed: \t0\n",
      "Tentative: \t20\n",
      "Rejected: \t0\n",
      "Iteration: \t5 / 100\n",
      "Confirmed: \t0\n",
      "Tentative: \t20\n",
      "Rejected: \t0\n",
      "Iteration: \t6 / 100\n",
      "Confirmed: \t0\n",
      "Tentative: \t20\n",
      "Rejected: \t0\n",
      "Iteration: \t7 / 100\n",
      "Confirmed: \t0\n",
      "Tentative: \t20\n",
      "Rejected: \t0\n",
      "Iteration: \t8 / 100\n",
      "Confirmed: \t18\n",
      "Tentative: \t2\n",
      "Rejected: \t0\n",
      "Iteration: \t9 / 100\n",
      "Confirmed: \t18\n",
      "Tentative: \t1\n",
      "Rejected: \t1\n"
     ]
    },
    {
     "name": "stderr",
     "output_type": "stream",
     "text": [
      "/home/dartsirkidman/anaconda3/lib/python3.6/site-packages/boruta/boruta_py.py:418: RuntimeWarning: invalid value encountered in greater\n",
      "  hits = np.where(cur_imp[0] > imp_sha_max)[0]\n"
     ]
    },
    {
     "name": "stdout",
     "output_type": "stream",
     "text": [
      "Iteration: \t10 / 100\n",
      "Confirmed: \t18\n",
      "Tentative: \t1\n",
      "Rejected: \t1\n"
     ]
    },
    {
     "name": "stderr",
     "output_type": "stream",
     "text": [
      "/home/dartsirkidman/anaconda3/lib/python3.6/site-packages/boruta/boruta_py.py:418: RuntimeWarning: invalid value encountered in greater\n",
      "  hits = np.where(cur_imp[0] > imp_sha_max)[0]\n"
     ]
    },
    {
     "name": "stdout",
     "output_type": "stream",
     "text": [
      "Iteration: \t11 / 100\n",
      "Confirmed: \t18\n",
      "Tentative: \t1\n",
      "Rejected: \t1\n"
     ]
    },
    {
     "name": "stderr",
     "output_type": "stream",
     "text": [
      "/home/dartsirkidman/anaconda3/lib/python3.6/site-packages/boruta/boruta_py.py:418: RuntimeWarning: invalid value encountered in greater\n",
      "  hits = np.where(cur_imp[0] > imp_sha_max)[0]\n"
     ]
    },
    {
     "name": "stdout",
     "output_type": "stream",
     "text": [
      "Iteration: \t12 / 100\n",
      "Confirmed: \t18\n",
      "Tentative: \t1\n",
      "Rejected: \t1\n"
     ]
    },
    {
     "name": "stderr",
     "output_type": "stream",
     "text": [
      "/home/dartsirkidman/anaconda3/lib/python3.6/site-packages/boruta/boruta_py.py:418: RuntimeWarning: invalid value encountered in greater\n",
      "  hits = np.where(cur_imp[0] > imp_sha_max)[0]\n"
     ]
    },
    {
     "name": "stdout",
     "output_type": "stream",
     "text": [
      "Iteration: \t13 / 100\n",
      "Confirmed: \t18\n",
      "Tentative: \t1\n",
      "Rejected: \t1\n"
     ]
    },
    {
     "name": "stderr",
     "output_type": "stream",
     "text": [
      "/home/dartsirkidman/anaconda3/lib/python3.6/site-packages/boruta/boruta_py.py:418: RuntimeWarning: invalid value encountered in greater\n",
      "  hits = np.where(cur_imp[0] > imp_sha_max)[0]\n"
     ]
    },
    {
     "name": "stdout",
     "output_type": "stream",
     "text": [
      "Iteration: \t14 / 100\n",
      "Confirmed: \t18\n",
      "Tentative: \t1\n",
      "Rejected: \t1\n"
     ]
    },
    {
     "name": "stderr",
     "output_type": "stream",
     "text": [
      "/home/dartsirkidman/anaconda3/lib/python3.6/site-packages/boruta/boruta_py.py:418: RuntimeWarning: invalid value encountered in greater\n",
      "  hits = np.where(cur_imp[0] > imp_sha_max)[0]\n"
     ]
    },
    {
     "name": "stdout",
     "output_type": "stream",
     "text": [
      "Iteration: \t15 / 100\n",
      "Confirmed: \t18\n",
      "Tentative: \t1\n",
      "Rejected: \t1\n"
     ]
    },
    {
     "name": "stderr",
     "output_type": "stream",
     "text": [
      "/home/dartsirkidman/anaconda3/lib/python3.6/site-packages/boruta/boruta_py.py:418: RuntimeWarning: invalid value encountered in greater\n",
      "  hits = np.where(cur_imp[0] > imp_sha_max)[0]\n"
     ]
    },
    {
     "name": "stdout",
     "output_type": "stream",
     "text": [
      "Iteration: \t16 / 100\n",
      "Confirmed: \t18\n",
      "Tentative: \t1\n",
      "Rejected: \t1\n"
     ]
    },
    {
     "name": "stderr",
     "output_type": "stream",
     "text": [
      "/home/dartsirkidman/anaconda3/lib/python3.6/site-packages/boruta/boruta_py.py:418: RuntimeWarning: invalid value encountered in greater\n",
      "  hits = np.where(cur_imp[0] > imp_sha_max)[0]\n"
     ]
    },
    {
     "name": "stdout",
     "output_type": "stream",
     "text": [
      "Iteration: \t17 / 100\n",
      "Confirmed: \t18\n",
      "Tentative: \t1\n",
      "Rejected: \t1\n"
     ]
    },
    {
     "name": "stderr",
     "output_type": "stream",
     "text": [
      "/home/dartsirkidman/anaconda3/lib/python3.6/site-packages/boruta/boruta_py.py:418: RuntimeWarning: invalid value encountered in greater\n",
      "  hits = np.where(cur_imp[0] > imp_sha_max)[0]\n"
     ]
    },
    {
     "name": "stdout",
     "output_type": "stream",
     "text": [
      "Iteration: \t18 / 100\n",
      "Confirmed: \t18\n",
      "Tentative: \t1\n",
      "Rejected: \t1\n"
     ]
    },
    {
     "name": "stderr",
     "output_type": "stream",
     "text": [
      "/home/dartsirkidman/anaconda3/lib/python3.6/site-packages/boruta/boruta_py.py:418: RuntimeWarning: invalid value encountered in greater\n",
      "  hits = np.where(cur_imp[0] > imp_sha_max)[0]\n"
     ]
    },
    {
     "name": "stdout",
     "output_type": "stream",
     "text": [
      "Iteration: \t19 / 100\n",
      "Confirmed: \t18\n",
      "Tentative: \t1\n",
      "Rejected: \t1\n"
     ]
    },
    {
     "name": "stderr",
     "output_type": "stream",
     "text": [
      "/home/dartsirkidman/anaconda3/lib/python3.6/site-packages/boruta/boruta_py.py:418: RuntimeWarning: invalid value encountered in greater\n",
      "  hits = np.where(cur_imp[0] > imp_sha_max)[0]\n"
     ]
    },
    {
     "name": "stdout",
     "output_type": "stream",
     "text": [
      "Iteration: \t20 / 100\n",
      "Confirmed: \t18\n",
      "Tentative: \t1\n",
      "Rejected: \t1\n"
     ]
    },
    {
     "name": "stderr",
     "output_type": "stream",
     "text": [
      "/home/dartsirkidman/anaconda3/lib/python3.6/site-packages/boruta/boruta_py.py:418: RuntimeWarning: invalid value encountered in greater\n",
      "  hits = np.where(cur_imp[0] > imp_sha_max)[0]\n"
     ]
    },
    {
     "name": "stdout",
     "output_type": "stream",
     "text": [
      "Iteration: \t21 / 100\n",
      "Confirmed: \t18\n",
      "Tentative: \t1\n",
      "Rejected: \t1\n"
     ]
    },
    {
     "name": "stderr",
     "output_type": "stream",
     "text": [
      "/home/dartsirkidman/anaconda3/lib/python3.6/site-packages/boruta/boruta_py.py:418: RuntimeWarning: invalid value encountered in greater\n",
      "  hits = np.where(cur_imp[0] > imp_sha_max)[0]\n"
     ]
    },
    {
     "name": "stdout",
     "output_type": "stream",
     "text": [
      "Iteration: \t22 / 100\n",
      "Confirmed: \t18\n",
      "Tentative: \t1\n",
      "Rejected: \t1\n"
     ]
    },
    {
     "name": "stderr",
     "output_type": "stream",
     "text": [
      "/home/dartsirkidman/anaconda3/lib/python3.6/site-packages/boruta/boruta_py.py:418: RuntimeWarning: invalid value encountered in greater\n",
      "  hits = np.where(cur_imp[0] > imp_sha_max)[0]\n"
     ]
    },
    {
     "name": "stdout",
     "output_type": "stream",
     "text": [
      "Iteration: \t23 / 100\n",
      "Confirmed: \t18\n",
      "Tentative: \t1\n",
      "Rejected: \t1\n"
     ]
    },
    {
     "name": "stderr",
     "output_type": "stream",
     "text": [
      "/home/dartsirkidman/anaconda3/lib/python3.6/site-packages/boruta/boruta_py.py:418: RuntimeWarning: invalid value encountered in greater\n",
      "  hits = np.where(cur_imp[0] > imp_sha_max)[0]\n"
     ]
    },
    {
     "name": "stdout",
     "output_type": "stream",
     "text": [
      "Iteration: \t24 / 100\n",
      "Confirmed: \t18\n",
      "Tentative: \t1\n",
      "Rejected: \t1\n"
     ]
    },
    {
     "name": "stderr",
     "output_type": "stream",
     "text": [
      "/home/dartsirkidman/anaconda3/lib/python3.6/site-packages/boruta/boruta_py.py:418: RuntimeWarning: invalid value encountered in greater\n",
      "  hits = np.where(cur_imp[0] > imp_sha_max)[0]\n"
     ]
    },
    {
     "name": "stdout",
     "output_type": "stream",
     "text": [
      "Iteration: \t25 / 100\n",
      "Confirmed: \t18\n",
      "Tentative: \t1\n",
      "Rejected: \t1\n"
     ]
    },
    {
     "name": "stderr",
     "output_type": "stream",
     "text": [
      "/home/dartsirkidman/anaconda3/lib/python3.6/site-packages/boruta/boruta_py.py:418: RuntimeWarning: invalid value encountered in greater\n",
      "  hits = np.where(cur_imp[0] > imp_sha_max)[0]\n"
     ]
    },
    {
     "name": "stdout",
     "output_type": "stream",
     "text": [
      "Iteration: \t26 / 100\n",
      "Confirmed: \t18\n",
      "Tentative: \t1\n",
      "Rejected: \t1\n"
     ]
    },
    {
     "name": "stderr",
     "output_type": "stream",
     "text": [
      "/home/dartsirkidman/anaconda3/lib/python3.6/site-packages/boruta/boruta_py.py:418: RuntimeWarning: invalid value encountered in greater\n",
      "  hits = np.where(cur_imp[0] > imp_sha_max)[0]\n"
     ]
    },
    {
     "name": "stdout",
     "output_type": "stream",
     "text": [
      "Iteration: \t27 / 100\n",
      "Confirmed: \t18\n",
      "Tentative: \t1\n",
      "Rejected: \t1\n"
     ]
    },
    {
     "name": "stderr",
     "output_type": "stream",
     "text": [
      "/home/dartsirkidman/anaconda3/lib/python3.6/site-packages/boruta/boruta_py.py:418: RuntimeWarning: invalid value encountered in greater\n",
      "  hits = np.where(cur_imp[0] > imp_sha_max)[0]\n"
     ]
    },
    {
     "name": "stdout",
     "output_type": "stream",
     "text": [
      "Iteration: \t28 / 100\n",
      "Confirmed: \t18\n",
      "Tentative: \t1\n",
      "Rejected: \t1\n"
     ]
    },
    {
     "name": "stderr",
     "output_type": "stream",
     "text": [
      "/home/dartsirkidman/anaconda3/lib/python3.6/site-packages/boruta/boruta_py.py:418: RuntimeWarning: invalid value encountered in greater\n",
      "  hits = np.where(cur_imp[0] > imp_sha_max)[0]\n"
     ]
    },
    {
     "name": "stdout",
     "output_type": "stream",
     "text": [
      "Iteration: \t29 / 100\n",
      "Confirmed: \t18\n",
      "Tentative: \t1\n",
      "Rejected: \t1\n"
     ]
    },
    {
     "name": "stderr",
     "output_type": "stream",
     "text": [
      "/home/dartsirkidman/anaconda3/lib/python3.6/site-packages/boruta/boruta_py.py:418: RuntimeWarning: invalid value encountered in greater\n",
      "  hits = np.where(cur_imp[0] > imp_sha_max)[0]\n"
     ]
    },
    {
     "name": "stdout",
     "output_type": "stream",
     "text": [
      "Iteration: \t30 / 100\n",
      "Confirmed: \t18\n",
      "Tentative: \t1\n",
      "Rejected: \t1\n"
     ]
    },
    {
     "name": "stderr",
     "output_type": "stream",
     "text": [
      "/home/dartsirkidman/anaconda3/lib/python3.6/site-packages/boruta/boruta_py.py:418: RuntimeWarning: invalid value encountered in greater\n",
      "  hits = np.where(cur_imp[0] > imp_sha_max)[0]\n"
     ]
    },
    {
     "name": "stdout",
     "output_type": "stream",
     "text": [
      "Iteration: \t31 / 100\n",
      "Confirmed: \t18\n",
      "Tentative: \t1\n",
      "Rejected: \t1\n"
     ]
    },
    {
     "name": "stderr",
     "output_type": "stream",
     "text": [
      "/home/dartsirkidman/anaconda3/lib/python3.6/site-packages/boruta/boruta_py.py:418: RuntimeWarning: invalid value encountered in greater\n",
      "  hits = np.where(cur_imp[0] > imp_sha_max)[0]\n"
     ]
    },
    {
     "name": "stdout",
     "output_type": "stream",
     "text": [
      "Iteration: \t32 / 100\n",
      "Confirmed: \t18\n",
      "Tentative: \t1\n",
      "Rejected: \t1\n"
     ]
    },
    {
     "name": "stderr",
     "output_type": "stream",
     "text": [
      "/home/dartsirkidman/anaconda3/lib/python3.6/site-packages/boruta/boruta_py.py:418: RuntimeWarning: invalid value encountered in greater\n",
      "  hits = np.where(cur_imp[0] > imp_sha_max)[0]\n"
     ]
    },
    {
     "name": "stdout",
     "output_type": "stream",
     "text": [
      "Iteration: \t33 / 100\n",
      "Confirmed: \t18\n",
      "Tentative: \t1\n",
      "Rejected: \t1\n"
     ]
    },
    {
     "name": "stderr",
     "output_type": "stream",
     "text": [
      "/home/dartsirkidman/anaconda3/lib/python3.6/site-packages/boruta/boruta_py.py:418: RuntimeWarning: invalid value encountered in greater\n",
      "  hits = np.where(cur_imp[0] > imp_sha_max)[0]\n"
     ]
    },
    {
     "name": "stdout",
     "output_type": "stream",
     "text": [
      "Iteration: \t34 / 100\n",
      "Confirmed: \t18\n",
      "Tentative: \t1\n",
      "Rejected: \t1\n"
     ]
    },
    {
     "name": "stderr",
     "output_type": "stream",
     "text": [
      "/home/dartsirkidman/anaconda3/lib/python3.6/site-packages/boruta/boruta_py.py:418: RuntimeWarning: invalid value encountered in greater\n",
      "  hits = np.where(cur_imp[0] > imp_sha_max)[0]\n"
     ]
    },
    {
     "name": "stdout",
     "output_type": "stream",
     "text": [
      "Iteration: \t35 / 100\n",
      "Confirmed: \t18\n",
      "Tentative: \t1\n",
      "Rejected: \t1\n"
     ]
    },
    {
     "name": "stderr",
     "output_type": "stream",
     "text": [
      "/home/dartsirkidman/anaconda3/lib/python3.6/site-packages/boruta/boruta_py.py:418: RuntimeWarning: invalid value encountered in greater\n",
      "  hits = np.where(cur_imp[0] > imp_sha_max)[0]\n"
     ]
    },
    {
     "name": "stdout",
     "output_type": "stream",
     "text": [
      "Iteration: \t36 / 100\n",
      "Confirmed: \t18\n",
      "Tentative: \t1\n",
      "Rejected: \t1\n"
     ]
    },
    {
     "name": "stderr",
     "output_type": "stream",
     "text": [
      "/home/dartsirkidman/anaconda3/lib/python3.6/site-packages/boruta/boruta_py.py:418: RuntimeWarning: invalid value encountered in greater\n",
      "  hits = np.where(cur_imp[0] > imp_sha_max)[0]\n"
     ]
    },
    {
     "name": "stdout",
     "output_type": "stream",
     "text": [
      "Iteration: \t37 / 100\n",
      "Confirmed: \t18\n",
      "Tentative: \t1\n",
      "Rejected: \t1\n"
     ]
    },
    {
     "name": "stderr",
     "output_type": "stream",
     "text": [
      "/home/dartsirkidman/anaconda3/lib/python3.6/site-packages/boruta/boruta_py.py:418: RuntimeWarning: invalid value encountered in greater\n",
      "  hits = np.where(cur_imp[0] > imp_sha_max)[0]\n"
     ]
    },
    {
     "name": "stdout",
     "output_type": "stream",
     "text": [
      "Iteration: \t38 / 100\n",
      "Confirmed: \t18\n",
      "Tentative: \t1\n",
      "Rejected: \t1\n"
     ]
    },
    {
     "name": "stderr",
     "output_type": "stream",
     "text": [
      "/home/dartsirkidman/anaconda3/lib/python3.6/site-packages/boruta/boruta_py.py:418: RuntimeWarning: invalid value encountered in greater\n",
      "  hits = np.where(cur_imp[0] > imp_sha_max)[0]\n"
     ]
    },
    {
     "name": "stdout",
     "output_type": "stream",
     "text": [
      "Iteration: \t39 / 100\n",
      "Confirmed: \t18\n",
      "Tentative: \t1\n",
      "Rejected: \t1\n"
     ]
    },
    {
     "name": "stderr",
     "output_type": "stream",
     "text": [
      "/home/dartsirkidman/anaconda3/lib/python3.6/site-packages/boruta/boruta_py.py:418: RuntimeWarning: invalid value encountered in greater\n",
      "  hits = np.where(cur_imp[0] > imp_sha_max)[0]\n"
     ]
    },
    {
     "name": "stdout",
     "output_type": "stream",
     "text": [
      "Iteration: \t40 / 100\n",
      "Confirmed: \t18\n",
      "Tentative: \t1\n",
      "Rejected: \t1\n"
     ]
    },
    {
     "name": "stderr",
     "output_type": "stream",
     "text": [
      "/home/dartsirkidman/anaconda3/lib/python3.6/site-packages/boruta/boruta_py.py:418: RuntimeWarning: invalid value encountered in greater\n",
      "  hits = np.where(cur_imp[0] > imp_sha_max)[0]\n"
     ]
    },
    {
     "name": "stdout",
     "output_type": "stream",
     "text": [
      "Iteration: \t41 / 100\n",
      "Confirmed: \t18\n",
      "Tentative: \t1\n",
      "Rejected: \t1\n"
     ]
    },
    {
     "name": "stderr",
     "output_type": "stream",
     "text": [
      "/home/dartsirkidman/anaconda3/lib/python3.6/site-packages/boruta/boruta_py.py:418: RuntimeWarning: invalid value encountered in greater\n",
      "  hits = np.where(cur_imp[0] > imp_sha_max)[0]\n"
     ]
    },
    {
     "name": "stdout",
     "output_type": "stream",
     "text": [
      "Iteration: \t42 / 100\n",
      "Confirmed: \t18\n",
      "Tentative: \t1\n",
      "Rejected: \t1\n"
     ]
    },
    {
     "name": "stderr",
     "output_type": "stream",
     "text": [
      "/home/dartsirkidman/anaconda3/lib/python3.6/site-packages/boruta/boruta_py.py:418: RuntimeWarning: invalid value encountered in greater\n",
      "  hits = np.where(cur_imp[0] > imp_sha_max)[0]\n"
     ]
    },
    {
     "name": "stdout",
     "output_type": "stream",
     "text": [
      "Iteration: \t43 / 100\n",
      "Confirmed: \t18\n",
      "Tentative: \t1\n",
      "Rejected: \t1\n"
     ]
    },
    {
     "name": "stderr",
     "output_type": "stream",
     "text": [
      "/home/dartsirkidman/anaconda3/lib/python3.6/site-packages/boruta/boruta_py.py:418: RuntimeWarning: invalid value encountered in greater\n",
      "  hits = np.where(cur_imp[0] > imp_sha_max)[0]\n"
     ]
    },
    {
     "name": "stdout",
     "output_type": "stream",
     "text": [
      "Iteration: \t44 / 100\n",
      "Confirmed: \t18\n",
      "Tentative: \t1\n",
      "Rejected: \t1\n"
     ]
    },
    {
     "name": "stderr",
     "output_type": "stream",
     "text": [
      "/home/dartsirkidman/anaconda3/lib/python3.6/site-packages/boruta/boruta_py.py:418: RuntimeWarning: invalid value encountered in greater\n",
      "  hits = np.where(cur_imp[0] > imp_sha_max)[0]\n"
     ]
    },
    {
     "name": "stdout",
     "output_type": "stream",
     "text": [
      "Iteration: \t45 / 100\n",
      "Confirmed: \t18\n",
      "Tentative: \t1\n",
      "Rejected: \t1\n"
     ]
    },
    {
     "name": "stderr",
     "output_type": "stream",
     "text": [
      "/home/dartsirkidman/anaconda3/lib/python3.6/site-packages/boruta/boruta_py.py:418: RuntimeWarning: invalid value encountered in greater\n",
      "  hits = np.where(cur_imp[0] > imp_sha_max)[0]\n"
     ]
    },
    {
     "name": "stdout",
     "output_type": "stream",
     "text": [
      "Iteration: \t46 / 100\n",
      "Confirmed: \t18\n",
      "Tentative: \t1\n",
      "Rejected: \t1\n"
     ]
    },
    {
     "name": "stderr",
     "output_type": "stream",
     "text": [
      "/home/dartsirkidman/anaconda3/lib/python3.6/site-packages/boruta/boruta_py.py:418: RuntimeWarning: invalid value encountered in greater\n",
      "  hits = np.where(cur_imp[0] > imp_sha_max)[0]\n"
     ]
    },
    {
     "name": "stdout",
     "output_type": "stream",
     "text": [
      "Iteration: \t47 / 100\n",
      "Confirmed: \t18\n",
      "Tentative: \t1\n",
      "Rejected: \t1\n"
     ]
    },
    {
     "name": "stderr",
     "output_type": "stream",
     "text": [
      "/home/dartsirkidman/anaconda3/lib/python3.6/site-packages/boruta/boruta_py.py:418: RuntimeWarning: invalid value encountered in greater\n",
      "  hits = np.where(cur_imp[0] > imp_sha_max)[0]\n"
     ]
    },
    {
     "name": "stdout",
     "output_type": "stream",
     "text": [
      "Iteration: \t48 / 100\n",
      "Confirmed: \t18\n",
      "Tentative: \t1\n",
      "Rejected: \t1\n"
     ]
    },
    {
     "name": "stderr",
     "output_type": "stream",
     "text": [
      "/home/dartsirkidman/anaconda3/lib/python3.6/site-packages/boruta/boruta_py.py:418: RuntimeWarning: invalid value encountered in greater\n",
      "  hits = np.where(cur_imp[0] > imp_sha_max)[0]\n"
     ]
    },
    {
     "name": "stdout",
     "output_type": "stream",
     "text": [
      "Iteration: \t49 / 100\n",
      "Confirmed: \t18\n",
      "Tentative: \t1\n",
      "Rejected: \t1\n"
     ]
    },
    {
     "name": "stderr",
     "output_type": "stream",
     "text": [
      "/home/dartsirkidman/anaconda3/lib/python3.6/site-packages/boruta/boruta_py.py:418: RuntimeWarning: invalid value encountered in greater\n",
      "  hits = np.where(cur_imp[0] > imp_sha_max)[0]\n"
     ]
    },
    {
     "name": "stdout",
     "output_type": "stream",
     "text": [
      "Iteration: \t50 / 100\n",
      "Confirmed: \t18\n",
      "Tentative: \t1\n",
      "Rejected: \t1\n"
     ]
    },
    {
     "name": "stderr",
     "output_type": "stream",
     "text": [
      "/home/dartsirkidman/anaconda3/lib/python3.6/site-packages/boruta/boruta_py.py:418: RuntimeWarning: invalid value encountered in greater\n",
      "  hits = np.where(cur_imp[0] > imp_sha_max)[0]\n"
     ]
    },
    {
     "name": "stdout",
     "output_type": "stream",
     "text": [
      "Iteration: \t51 / 100\n",
      "Confirmed: \t18\n",
      "Tentative: \t1\n",
      "Rejected: \t1\n"
     ]
    },
    {
     "name": "stderr",
     "output_type": "stream",
     "text": [
      "/home/dartsirkidman/anaconda3/lib/python3.6/site-packages/boruta/boruta_py.py:418: RuntimeWarning: invalid value encountered in greater\n",
      "  hits = np.where(cur_imp[0] > imp_sha_max)[0]\n"
     ]
    },
    {
     "name": "stdout",
     "output_type": "stream",
     "text": [
      "Iteration: \t52 / 100\n",
      "Confirmed: \t18\n",
      "Tentative: \t1\n",
      "Rejected: \t1\n"
     ]
    },
    {
     "name": "stderr",
     "output_type": "stream",
     "text": [
      "/home/dartsirkidman/anaconda3/lib/python3.6/site-packages/boruta/boruta_py.py:418: RuntimeWarning: invalid value encountered in greater\n",
      "  hits = np.where(cur_imp[0] > imp_sha_max)[0]\n"
     ]
    },
    {
     "name": "stdout",
     "output_type": "stream",
     "text": [
      "Iteration: \t53 / 100\n",
      "Confirmed: \t18\n",
      "Tentative: \t1\n",
      "Rejected: \t1\n"
     ]
    },
    {
     "name": "stderr",
     "output_type": "stream",
     "text": [
      "/home/dartsirkidman/anaconda3/lib/python3.6/site-packages/boruta/boruta_py.py:418: RuntimeWarning: invalid value encountered in greater\n",
      "  hits = np.where(cur_imp[0] > imp_sha_max)[0]\n"
     ]
    },
    {
     "name": "stdout",
     "output_type": "stream",
     "text": [
      "Iteration: \t54 / 100\n",
      "Confirmed: \t18\n",
      "Tentative: \t1\n",
      "Rejected: \t1\n"
     ]
    },
    {
     "name": "stderr",
     "output_type": "stream",
     "text": [
      "/home/dartsirkidman/anaconda3/lib/python3.6/site-packages/boruta/boruta_py.py:418: RuntimeWarning: invalid value encountered in greater\n",
      "  hits = np.where(cur_imp[0] > imp_sha_max)[0]\n"
     ]
    },
    {
     "name": "stdout",
     "output_type": "stream",
     "text": [
      "Iteration: \t55 / 100\n",
      "Confirmed: \t18\n",
      "Tentative: \t1\n",
      "Rejected: \t1\n"
     ]
    },
    {
     "name": "stderr",
     "output_type": "stream",
     "text": [
      "/home/dartsirkidman/anaconda3/lib/python3.6/site-packages/boruta/boruta_py.py:418: RuntimeWarning: invalid value encountered in greater\n",
      "  hits = np.where(cur_imp[0] > imp_sha_max)[0]\n"
     ]
    },
    {
     "name": "stdout",
     "output_type": "stream",
     "text": [
      "Iteration: \t56 / 100\n",
      "Confirmed: \t18\n",
      "Tentative: \t1\n",
      "Rejected: \t1\n"
     ]
    },
    {
     "name": "stderr",
     "output_type": "stream",
     "text": [
      "/home/dartsirkidman/anaconda3/lib/python3.6/site-packages/boruta/boruta_py.py:418: RuntimeWarning: invalid value encountered in greater\n",
      "  hits = np.where(cur_imp[0] > imp_sha_max)[0]\n"
     ]
    },
    {
     "name": "stdout",
     "output_type": "stream",
     "text": [
      "Iteration: \t57 / 100\n",
      "Confirmed: \t18\n",
      "Tentative: \t1\n",
      "Rejected: \t1\n"
     ]
    },
    {
     "name": "stderr",
     "output_type": "stream",
     "text": [
      "/home/dartsirkidman/anaconda3/lib/python3.6/site-packages/boruta/boruta_py.py:418: RuntimeWarning: invalid value encountered in greater\n",
      "  hits = np.where(cur_imp[0] > imp_sha_max)[0]\n"
     ]
    },
    {
     "name": "stdout",
     "output_type": "stream",
     "text": [
      "Iteration: \t58 / 100\n",
      "Confirmed: \t18\n",
      "Tentative: \t1\n",
      "Rejected: \t1\n"
     ]
    },
    {
     "name": "stderr",
     "output_type": "stream",
     "text": [
      "/home/dartsirkidman/anaconda3/lib/python3.6/site-packages/boruta/boruta_py.py:418: RuntimeWarning: invalid value encountered in greater\n",
      "  hits = np.where(cur_imp[0] > imp_sha_max)[0]\n"
     ]
    },
    {
     "name": "stdout",
     "output_type": "stream",
     "text": [
      "Iteration: \t59 / 100\n",
      "Confirmed: \t18\n",
      "Tentative: \t1\n",
      "Rejected: \t1\n"
     ]
    },
    {
     "name": "stderr",
     "output_type": "stream",
     "text": [
      "/home/dartsirkidman/anaconda3/lib/python3.6/site-packages/boruta/boruta_py.py:418: RuntimeWarning: invalid value encountered in greater\n",
      "  hits = np.where(cur_imp[0] > imp_sha_max)[0]\n"
     ]
    },
    {
     "name": "stdout",
     "output_type": "stream",
     "text": [
      "Iteration: \t60 / 100\n",
      "Confirmed: \t18\n",
      "Tentative: \t1\n",
      "Rejected: \t1\n"
     ]
    },
    {
     "name": "stderr",
     "output_type": "stream",
     "text": [
      "/home/dartsirkidman/anaconda3/lib/python3.6/site-packages/boruta/boruta_py.py:418: RuntimeWarning: invalid value encountered in greater\n",
      "  hits = np.where(cur_imp[0] > imp_sha_max)[0]\n"
     ]
    },
    {
     "name": "stdout",
     "output_type": "stream",
     "text": [
      "Iteration: \t61 / 100\n",
      "Confirmed: \t18\n",
      "Tentative: \t1\n",
      "Rejected: \t1\n"
     ]
    },
    {
     "name": "stderr",
     "output_type": "stream",
     "text": [
      "/home/dartsirkidman/anaconda3/lib/python3.6/site-packages/boruta/boruta_py.py:418: RuntimeWarning: invalid value encountered in greater\n",
      "  hits = np.where(cur_imp[0] > imp_sha_max)[0]\n"
     ]
    },
    {
     "name": "stdout",
     "output_type": "stream",
     "text": [
      "Iteration: \t62 / 100\n",
      "Confirmed: \t18\n",
      "Tentative: \t1\n",
      "Rejected: \t1\n"
     ]
    },
    {
     "name": "stderr",
     "output_type": "stream",
     "text": [
      "/home/dartsirkidman/anaconda3/lib/python3.6/site-packages/boruta/boruta_py.py:418: RuntimeWarning: invalid value encountered in greater\n",
      "  hits = np.where(cur_imp[0] > imp_sha_max)[0]\n"
     ]
    },
    {
     "name": "stdout",
     "output_type": "stream",
     "text": [
      "Iteration: \t63 / 100\n",
      "Confirmed: \t18\n",
      "Tentative: \t1\n",
      "Rejected: \t1\n"
     ]
    },
    {
     "name": "stderr",
     "output_type": "stream",
     "text": [
      "/home/dartsirkidman/anaconda3/lib/python3.6/site-packages/boruta/boruta_py.py:418: RuntimeWarning: invalid value encountered in greater\n",
      "  hits = np.where(cur_imp[0] > imp_sha_max)[0]\n"
     ]
    },
    {
     "name": "stdout",
     "output_type": "stream",
     "text": [
      "Iteration: \t64 / 100\n",
      "Confirmed: \t18\n",
      "Tentative: \t1\n",
      "Rejected: \t1\n"
     ]
    },
    {
     "name": "stderr",
     "output_type": "stream",
     "text": [
      "/home/dartsirkidman/anaconda3/lib/python3.6/site-packages/boruta/boruta_py.py:418: RuntimeWarning: invalid value encountered in greater\n",
      "  hits = np.where(cur_imp[0] > imp_sha_max)[0]\n"
     ]
    },
    {
     "name": "stdout",
     "output_type": "stream",
     "text": [
      "Iteration: \t65 / 100\n",
      "Confirmed: \t18\n",
      "Tentative: \t1\n",
      "Rejected: \t1\n"
     ]
    },
    {
     "name": "stderr",
     "output_type": "stream",
     "text": [
      "/home/dartsirkidman/anaconda3/lib/python3.6/site-packages/boruta/boruta_py.py:418: RuntimeWarning: invalid value encountered in greater\n",
      "  hits = np.where(cur_imp[0] > imp_sha_max)[0]\n"
     ]
    },
    {
     "name": "stdout",
     "output_type": "stream",
     "text": [
      "Iteration: \t66 / 100\n",
      "Confirmed: \t18\n",
      "Tentative: \t1\n",
      "Rejected: \t1\n"
     ]
    },
    {
     "name": "stderr",
     "output_type": "stream",
     "text": [
      "/home/dartsirkidman/anaconda3/lib/python3.6/site-packages/boruta/boruta_py.py:418: RuntimeWarning: invalid value encountered in greater\n",
      "  hits = np.where(cur_imp[0] > imp_sha_max)[0]\n"
     ]
    },
    {
     "name": "stdout",
     "output_type": "stream",
     "text": [
      "Iteration: \t67 / 100\n",
      "Confirmed: \t18\n",
      "Tentative: \t1\n",
      "Rejected: \t1\n"
     ]
    },
    {
     "name": "stderr",
     "output_type": "stream",
     "text": [
      "/home/dartsirkidman/anaconda3/lib/python3.6/site-packages/boruta/boruta_py.py:418: RuntimeWarning: invalid value encountered in greater\n",
      "  hits = np.where(cur_imp[0] > imp_sha_max)[0]\n"
     ]
    },
    {
     "name": "stdout",
     "output_type": "stream",
     "text": [
      "Iteration: \t68 / 100\n",
      "Confirmed: \t18\n",
      "Tentative: \t1\n",
      "Rejected: \t1\n"
     ]
    },
    {
     "name": "stderr",
     "output_type": "stream",
     "text": [
      "/home/dartsirkidman/anaconda3/lib/python3.6/site-packages/boruta/boruta_py.py:418: RuntimeWarning: invalid value encountered in greater\n",
      "  hits = np.where(cur_imp[0] > imp_sha_max)[0]\n"
     ]
    },
    {
     "name": "stdout",
     "output_type": "stream",
     "text": [
      "Iteration: \t69 / 100\n",
      "Confirmed: \t18\n",
      "Tentative: \t1\n",
      "Rejected: \t1\n"
     ]
    },
    {
     "name": "stderr",
     "output_type": "stream",
     "text": [
      "/home/dartsirkidman/anaconda3/lib/python3.6/site-packages/boruta/boruta_py.py:418: RuntimeWarning: invalid value encountered in greater\n",
      "  hits = np.where(cur_imp[0] > imp_sha_max)[0]\n"
     ]
    },
    {
     "name": "stdout",
     "output_type": "stream",
     "text": [
      "Iteration: \t70 / 100\n",
      "Confirmed: \t18\n",
      "Tentative: \t1\n",
      "Rejected: \t1\n"
     ]
    },
    {
     "name": "stderr",
     "output_type": "stream",
     "text": [
      "/home/dartsirkidman/anaconda3/lib/python3.6/site-packages/boruta/boruta_py.py:418: RuntimeWarning: invalid value encountered in greater\n",
      "  hits = np.where(cur_imp[0] > imp_sha_max)[0]\n"
     ]
    },
    {
     "name": "stdout",
     "output_type": "stream",
     "text": [
      "Iteration: \t71 / 100\n",
      "Confirmed: \t18\n",
      "Tentative: \t1\n",
      "Rejected: \t1\n"
     ]
    },
    {
     "name": "stderr",
     "output_type": "stream",
     "text": [
      "/home/dartsirkidman/anaconda3/lib/python3.6/site-packages/boruta/boruta_py.py:418: RuntimeWarning: invalid value encountered in greater\n",
      "  hits = np.where(cur_imp[0] > imp_sha_max)[0]\n"
     ]
    },
    {
     "name": "stdout",
     "output_type": "stream",
     "text": [
      "Iteration: \t72 / 100\n",
      "Confirmed: \t18\n",
      "Tentative: \t1\n",
      "Rejected: \t1\n"
     ]
    },
    {
     "name": "stderr",
     "output_type": "stream",
     "text": [
      "/home/dartsirkidman/anaconda3/lib/python3.6/site-packages/boruta/boruta_py.py:418: RuntimeWarning: invalid value encountered in greater\n",
      "  hits = np.where(cur_imp[0] > imp_sha_max)[0]\n"
     ]
    },
    {
     "name": "stdout",
     "output_type": "stream",
     "text": [
      "Iteration: \t73 / 100\n",
      "Confirmed: \t18\n",
      "Tentative: \t1\n",
      "Rejected: \t1\n"
     ]
    },
    {
     "name": "stderr",
     "output_type": "stream",
     "text": [
      "/home/dartsirkidman/anaconda3/lib/python3.6/site-packages/boruta/boruta_py.py:418: RuntimeWarning: invalid value encountered in greater\n",
      "  hits = np.where(cur_imp[0] > imp_sha_max)[0]\n"
     ]
    },
    {
     "name": "stdout",
     "output_type": "stream",
     "text": [
      "Iteration: \t74 / 100\n",
      "Confirmed: \t18\n",
      "Tentative: \t1\n",
      "Rejected: \t1\n"
     ]
    },
    {
     "name": "stderr",
     "output_type": "stream",
     "text": [
      "/home/dartsirkidman/anaconda3/lib/python3.6/site-packages/boruta/boruta_py.py:418: RuntimeWarning: invalid value encountered in greater\n",
      "  hits = np.where(cur_imp[0] > imp_sha_max)[0]\n"
     ]
    },
    {
     "name": "stdout",
     "output_type": "stream",
     "text": [
      "Iteration: \t75 / 100\n",
      "Confirmed: \t18\n",
      "Tentative: \t1\n",
      "Rejected: \t1\n"
     ]
    },
    {
     "name": "stderr",
     "output_type": "stream",
     "text": [
      "/home/dartsirkidman/anaconda3/lib/python3.6/site-packages/boruta/boruta_py.py:418: RuntimeWarning: invalid value encountered in greater\n",
      "  hits = np.where(cur_imp[0] > imp_sha_max)[0]\n"
     ]
    },
    {
     "name": "stdout",
     "output_type": "stream",
     "text": [
      "Iteration: \t76 / 100\n",
      "Confirmed: \t18\n",
      "Tentative: \t1\n",
      "Rejected: \t1\n"
     ]
    },
    {
     "name": "stderr",
     "output_type": "stream",
     "text": [
      "/home/dartsirkidman/anaconda3/lib/python3.6/site-packages/boruta/boruta_py.py:418: RuntimeWarning: invalid value encountered in greater\n",
      "  hits = np.where(cur_imp[0] > imp_sha_max)[0]\n"
     ]
    },
    {
     "name": "stdout",
     "output_type": "stream",
     "text": [
      "Iteration: \t77 / 100\n",
      "Confirmed: \t18\n",
      "Tentative: \t1\n",
      "Rejected: \t1\n"
     ]
    },
    {
     "name": "stderr",
     "output_type": "stream",
     "text": [
      "/home/dartsirkidman/anaconda3/lib/python3.6/site-packages/boruta/boruta_py.py:418: RuntimeWarning: invalid value encountered in greater\n",
      "  hits = np.where(cur_imp[0] > imp_sha_max)[0]\n"
     ]
    },
    {
     "name": "stdout",
     "output_type": "stream",
     "text": [
      "Iteration: \t78 / 100\n",
      "Confirmed: \t18\n",
      "Tentative: \t1\n",
      "Rejected: \t1\n"
     ]
    },
    {
     "name": "stderr",
     "output_type": "stream",
     "text": [
      "/home/dartsirkidman/anaconda3/lib/python3.6/site-packages/boruta/boruta_py.py:418: RuntimeWarning: invalid value encountered in greater\n",
      "  hits = np.where(cur_imp[0] > imp_sha_max)[0]\n"
     ]
    },
    {
     "name": "stdout",
     "output_type": "stream",
     "text": [
      "Iteration: \t79 / 100\n",
      "Confirmed: \t18\n",
      "Tentative: \t1\n",
      "Rejected: \t1\n"
     ]
    },
    {
     "name": "stderr",
     "output_type": "stream",
     "text": [
      "/home/dartsirkidman/anaconda3/lib/python3.6/site-packages/boruta/boruta_py.py:418: RuntimeWarning: invalid value encountered in greater\n",
      "  hits = np.where(cur_imp[0] > imp_sha_max)[0]\n"
     ]
    },
    {
     "name": "stdout",
     "output_type": "stream",
     "text": [
      "Iteration: \t80 / 100\n",
      "Confirmed: \t18\n",
      "Tentative: \t1\n",
      "Rejected: \t1\n"
     ]
    },
    {
     "name": "stderr",
     "output_type": "stream",
     "text": [
      "/home/dartsirkidman/anaconda3/lib/python3.6/site-packages/boruta/boruta_py.py:418: RuntimeWarning: invalid value encountered in greater\n",
      "  hits = np.where(cur_imp[0] > imp_sha_max)[0]\n"
     ]
    },
    {
     "name": "stdout",
     "output_type": "stream",
     "text": [
      "Iteration: \t81 / 100\n",
      "Confirmed: \t18\n",
      "Tentative: \t1\n",
      "Rejected: \t1\n"
     ]
    },
    {
     "name": "stderr",
     "output_type": "stream",
     "text": [
      "/home/dartsirkidman/anaconda3/lib/python3.6/site-packages/boruta/boruta_py.py:418: RuntimeWarning: invalid value encountered in greater\n",
      "  hits = np.where(cur_imp[0] > imp_sha_max)[0]\n"
     ]
    },
    {
     "name": "stdout",
     "output_type": "stream",
     "text": [
      "Iteration: \t82 / 100\n",
      "Confirmed: \t18\n",
      "Tentative: \t1\n",
      "Rejected: \t1\n"
     ]
    },
    {
     "name": "stderr",
     "output_type": "stream",
     "text": [
      "/home/dartsirkidman/anaconda3/lib/python3.6/site-packages/boruta/boruta_py.py:418: RuntimeWarning: invalid value encountered in greater\n",
      "  hits = np.where(cur_imp[0] > imp_sha_max)[0]\n"
     ]
    },
    {
     "name": "stdout",
     "output_type": "stream",
     "text": [
      "Iteration: \t83 / 100\n",
      "Confirmed: \t18\n",
      "Tentative: \t1\n",
      "Rejected: \t1\n"
     ]
    },
    {
     "name": "stderr",
     "output_type": "stream",
     "text": [
      "/home/dartsirkidman/anaconda3/lib/python3.6/site-packages/boruta/boruta_py.py:418: RuntimeWarning: invalid value encountered in greater\n",
      "  hits = np.where(cur_imp[0] > imp_sha_max)[0]\n"
     ]
    },
    {
     "name": "stdout",
     "output_type": "stream",
     "text": [
      "Iteration: \t84 / 100\n",
      "Confirmed: \t18\n",
      "Tentative: \t1\n",
      "Rejected: \t1\n"
     ]
    },
    {
     "name": "stderr",
     "output_type": "stream",
     "text": [
      "/home/dartsirkidman/anaconda3/lib/python3.6/site-packages/boruta/boruta_py.py:418: RuntimeWarning: invalid value encountered in greater\n",
      "  hits = np.where(cur_imp[0] > imp_sha_max)[0]\n"
     ]
    },
    {
     "name": "stdout",
     "output_type": "stream",
     "text": [
      "Iteration: \t85 / 100\n",
      "Confirmed: \t18\n",
      "Tentative: \t1\n",
      "Rejected: \t1\n"
     ]
    },
    {
     "name": "stderr",
     "output_type": "stream",
     "text": [
      "/home/dartsirkidman/anaconda3/lib/python3.6/site-packages/boruta/boruta_py.py:418: RuntimeWarning: invalid value encountered in greater\n",
      "  hits = np.where(cur_imp[0] > imp_sha_max)[0]\n"
     ]
    },
    {
     "name": "stdout",
     "output_type": "stream",
     "text": [
      "Iteration: \t86 / 100\n",
      "Confirmed: \t18\n",
      "Tentative: \t1\n",
      "Rejected: \t1\n"
     ]
    },
    {
     "name": "stderr",
     "output_type": "stream",
     "text": [
      "/home/dartsirkidman/anaconda3/lib/python3.6/site-packages/boruta/boruta_py.py:418: RuntimeWarning: invalid value encountered in greater\n",
      "  hits = np.where(cur_imp[0] > imp_sha_max)[0]\n"
     ]
    },
    {
     "name": "stdout",
     "output_type": "stream",
     "text": [
      "Iteration: \t87 / 100\n",
      "Confirmed: \t18\n",
      "Tentative: \t1\n",
      "Rejected: \t1\n"
     ]
    },
    {
     "name": "stderr",
     "output_type": "stream",
     "text": [
      "/home/dartsirkidman/anaconda3/lib/python3.6/site-packages/boruta/boruta_py.py:418: RuntimeWarning: invalid value encountered in greater\n",
      "  hits = np.where(cur_imp[0] > imp_sha_max)[0]\n"
     ]
    },
    {
     "name": "stdout",
     "output_type": "stream",
     "text": [
      "Iteration: \t88 / 100\n",
      "Confirmed: \t18\n",
      "Tentative: \t1\n",
      "Rejected: \t1\n"
     ]
    },
    {
     "name": "stderr",
     "output_type": "stream",
     "text": [
      "/home/dartsirkidman/anaconda3/lib/python3.6/site-packages/boruta/boruta_py.py:418: RuntimeWarning: invalid value encountered in greater\n",
      "  hits = np.where(cur_imp[0] > imp_sha_max)[0]\n"
     ]
    },
    {
     "name": "stdout",
     "output_type": "stream",
     "text": [
      "Iteration: \t89 / 100\n",
      "Confirmed: \t18\n",
      "Tentative: \t1\n",
      "Rejected: \t1\n"
     ]
    },
    {
     "name": "stderr",
     "output_type": "stream",
     "text": [
      "/home/dartsirkidman/anaconda3/lib/python3.6/site-packages/boruta/boruta_py.py:418: RuntimeWarning: invalid value encountered in greater\n",
      "  hits = np.where(cur_imp[0] > imp_sha_max)[0]\n"
     ]
    },
    {
     "name": "stdout",
     "output_type": "stream",
     "text": [
      "Iteration: \t90 / 100\n",
      "Confirmed: \t18\n",
      "Tentative: \t1\n",
      "Rejected: \t1\n"
     ]
    },
    {
     "name": "stderr",
     "output_type": "stream",
     "text": [
      "/home/dartsirkidman/anaconda3/lib/python3.6/site-packages/boruta/boruta_py.py:418: RuntimeWarning: invalid value encountered in greater\n",
      "  hits = np.where(cur_imp[0] > imp_sha_max)[0]\n"
     ]
    },
    {
     "name": "stdout",
     "output_type": "stream",
     "text": [
      "Iteration: \t91 / 100\n",
      "Confirmed: \t18\n",
      "Tentative: \t1\n",
      "Rejected: \t1\n"
     ]
    },
    {
     "name": "stderr",
     "output_type": "stream",
     "text": [
      "/home/dartsirkidman/anaconda3/lib/python3.6/site-packages/boruta/boruta_py.py:418: RuntimeWarning: invalid value encountered in greater\n",
      "  hits = np.where(cur_imp[0] > imp_sha_max)[0]\n"
     ]
    },
    {
     "name": "stdout",
     "output_type": "stream",
     "text": [
      "Iteration: \t92 / 100\n",
      "Confirmed: \t18\n",
      "Tentative: \t1\n",
      "Rejected: \t1\n"
     ]
    },
    {
     "name": "stderr",
     "output_type": "stream",
     "text": [
      "/home/dartsirkidman/anaconda3/lib/python3.6/site-packages/boruta/boruta_py.py:418: RuntimeWarning: invalid value encountered in greater\n",
      "  hits = np.where(cur_imp[0] > imp_sha_max)[0]\n"
     ]
    },
    {
     "name": "stdout",
     "output_type": "stream",
     "text": [
      "Iteration: \t93 / 100\n",
      "Confirmed: \t18\n",
      "Tentative: \t1\n",
      "Rejected: \t1\n"
     ]
    },
    {
     "name": "stderr",
     "output_type": "stream",
     "text": [
      "/home/dartsirkidman/anaconda3/lib/python3.6/site-packages/boruta/boruta_py.py:418: RuntimeWarning: invalid value encountered in greater\n",
      "  hits = np.where(cur_imp[0] > imp_sha_max)[0]\n"
     ]
    },
    {
     "name": "stdout",
     "output_type": "stream",
     "text": [
      "Iteration: \t94 / 100\n",
      "Confirmed: \t18\n",
      "Tentative: \t1\n",
      "Rejected: \t1\n"
     ]
    },
    {
     "name": "stderr",
     "output_type": "stream",
     "text": [
      "/home/dartsirkidman/anaconda3/lib/python3.6/site-packages/boruta/boruta_py.py:418: RuntimeWarning: invalid value encountered in greater\n",
      "  hits = np.where(cur_imp[0] > imp_sha_max)[0]\n"
     ]
    },
    {
     "name": "stdout",
     "output_type": "stream",
     "text": [
      "Iteration: \t95 / 100\n",
      "Confirmed: \t18\n",
      "Tentative: \t1\n",
      "Rejected: \t1\n"
     ]
    },
    {
     "name": "stderr",
     "output_type": "stream",
     "text": [
      "/home/dartsirkidman/anaconda3/lib/python3.6/site-packages/boruta/boruta_py.py:418: RuntimeWarning: invalid value encountered in greater\n",
      "  hits = np.where(cur_imp[0] > imp_sha_max)[0]\n"
     ]
    },
    {
     "name": "stdout",
     "output_type": "stream",
     "text": [
      "Iteration: \t96 / 100\n",
      "Confirmed: \t18\n",
      "Tentative: \t1\n",
      "Rejected: \t1\n"
     ]
    },
    {
     "name": "stderr",
     "output_type": "stream",
     "text": [
      "/home/dartsirkidman/anaconda3/lib/python3.6/site-packages/boruta/boruta_py.py:418: RuntimeWarning: invalid value encountered in greater\n",
      "  hits = np.where(cur_imp[0] > imp_sha_max)[0]\n"
     ]
    },
    {
     "name": "stdout",
     "output_type": "stream",
     "text": [
      "Iteration: \t97 / 100\n",
      "Confirmed: \t18\n",
      "Tentative: \t1\n",
      "Rejected: \t1\n"
     ]
    },
    {
     "name": "stderr",
     "output_type": "stream",
     "text": [
      "/home/dartsirkidman/anaconda3/lib/python3.6/site-packages/boruta/boruta_py.py:418: RuntimeWarning: invalid value encountered in greater\n",
      "  hits = np.where(cur_imp[0] > imp_sha_max)[0]\n"
     ]
    },
    {
     "name": "stdout",
     "output_type": "stream",
     "text": [
      "Iteration: \t98 / 100\n",
      "Confirmed: \t18\n",
      "Tentative: \t1\n",
      "Rejected: \t1\n",
      "Iteration: \t99 / 100\n",
      "Confirmed: \t18\n",
      "Tentative: \t1\n",
      "Rejected: \t1\n",
      "\n",
      "\n",
      "BorutaPy finished running.\n",
      "\n",
      "Iteration: \t100 / 100\n",
      "Confirmed: \t18\n",
      "Tentative: \t1\n",
      "Rejected: \t1\n"
     ]
    },
    {
     "name": "stderr",
     "output_type": "stream",
     "text": [
      "/home/dartsirkidman/anaconda3/lib/python3.6/site-packages/boruta/boruta_py.py:418: RuntimeWarning: invalid value encountered in greater\n",
      "  hits = np.where(cur_imp[0] > imp_sha_max)[0]\n"
     ]
    },
    {
     "data": {
      "text/plain": [
       "BorutaPy(alpha=0.05,\n",
       "     estimator=RandomForestClassifier(bootstrap=True, class_weight='balanced',\n",
       "            criterion='gini', max_depth=5, max_features='auto',\n",
       "            max_leaf_nodes=None, min_impurity_decrease=0.0,\n",
       "            min_impurity_split=None, min_samples_leaf=1,\n",
       "            min_samples_split=2, min_weight_fraction_leaf=0.0,\n",
       "            n_estimators=123, n_jobs=-1, oob_score=False,\n",
       "            random_state=<mtrand.RandomState object at 0x7f625307d240>,\n",
       "            verbose=0, warm_start=False),\n",
       "     max_iter=100, n_estimators='auto', perc=100,\n",
       "     random_state=<mtrand.RandomState object at 0x7f625307d240>,\n",
       "     two_step=True, verbose=2)"
      ]
     },
     "execution_count": 41,
     "metadata": {},
     "output_type": "execute_result"
    }
   ],
   "source": [
    "from boruta import BorutaPy\n",
    "from sklearn.ensemble import RandomForestClassifier\n",
    "\n",
    "rf = RandomForestClassifier(n_jobs=-1, class_weight='balanced', max_depth=5)\n",
    "feat_selector = BorutaPy(rf, n_estimators='auto', verbose=2, random_state=1)\n",
    "feat_selector.fit(train.values, label.ravel())"
   ]
  },
  {
   "cell_type": "code",
   "execution_count": 42,
   "metadata": {},
   "outputs": [
    {
     "name": "stdout",
     "output_type": "stream",
     "text": [
      "selected features: banner_id, advertiser_id, zone_id, affiliate_id, geo, region_code, city_code, os, os_version, device_type, device, browser, lang, varpp, varcc, isp, mobile_isp, netspeed\n"
     ]
    }
   ],
   "source": [
    "feature_selected = ', '.join(train.columns[feat_selector.support_].tolist())\n",
    "print(f'selected features: {feature_selected}')"
   ]
  },
  {
   "cell_type": "code",
   "execution_count": 153,
   "metadata": {},
   "outputs": [
    {
     "data": {
      "text/plain": [
       "{'os_type', 'proxy'}"
      ]
     },
     "execution_count": 153,
     "metadata": {},
     "output_type": "execute_result"
    }
   ],
   "source": [
    "set(train.columns.tolist()) - set(train.columns[feat_selector.support_].tolist())"
   ]
  },
  {
   "cell_type": "code",
   "execution_count": 43,
   "metadata": {},
   "outputs": [
    {
     "data": {
      "text/plain": [
       "banner_id        1\n",
       "advertiser_id    1\n",
       "zone_id          1\n",
       "affiliate_id     1\n",
       "geo              1\n",
       "region_code      1\n",
       "city_code        1\n",
       "os_type          2\n",
       "os               1\n",
       "os_version       1\n",
       "device_type      1\n",
       "device           1\n",
       "browser          1\n",
       "lang             1\n",
       "varpp            1\n",
       "varcc            1\n",
       "isp              1\n",
       "mobile_isp       1\n",
       "proxy            3\n",
       "netspeed         1\n",
       "dtype: int64"
      ]
     },
     "execution_count": 43,
     "metadata": {},
     "output_type": "execute_result"
    }
   ],
   "source": [
    "pd.Series(data={k: v for k,v in zip(train.columns.values.tolist(), feat_selector.ranking_)})"
   ]
  },
  {
   "cell_type": "code",
   "execution_count": 266,
   "metadata": {},
   "outputs": [],
   "source": [
    "X = train_s.drop(columns=['offer_id', 'varp'])\n"
   ]
  },
  {
   "cell_type": "code",
   "execution_count": 342,
   "metadata": {},
   "outputs": [],
   "source": [
    "X_train, X_test, y_train, y_test = train_test_split(train_s, label_s, test_size=.5,\\\n",
    "                                                    random_state=1337, stratify=label_s)\n",
    "X_train.reset_index(drop=True, inplace=True)\n",
    "X_test.reset_index(drop=True, inplace=True)\n",
    "\n",
    "for col in X_test.columns:\n",
    "    values = X_test[col].isin(X_train[col])\n",
    "    y_test = y_test[values]\n",
    "    X_test = X_test[values]"
   ]
  },
  {
   "cell_type": "code",
   "execution_count": 344,
   "metadata": {},
   "outputs": [
    {
     "name": "stdout",
     "output_type": "stream",
     "text": [
      "CPU times: user 5.15 s, sys: 844 ms, total: 6 s\n",
      "Wall time: 5.99 s\n"
     ]
    }
   ],
   "source": [
    "%%time\n",
    "X_train = pd.get_dummies(X_train, columns=categorical_with_nans, dummy_na=True)\n",
    "X_train = pd.get_dummies(X_train, columns=categorical_without_nans)\n",
    "\n",
    "X_test = pd.get_dummies(X_test, columns=categorical_with_nans, dummy_na=True)\n",
    "X_test = pd.get_dummies(X_test, columns=categorical_without_nans)"
   ]
  },
  {
   "cell_type": "code",
   "execution_count": 345,
   "metadata": {
    "scrolled": true
   },
   "outputs": [],
   "source": [
    "dict_assign = {k: 0 for k in X_train.columns.drop(X_test.columns)}\n",
    "X_test = X_test.assign(**pd.DataFrame(dict_assign, index=X_test.index))"
   ]
  },
  {
   "cell_type": "code",
   "execution_count": 349,
   "metadata": {},
   "outputs": [
    {
     "data": {
      "text/plain": [
       "((25000, 16177), (7378, 16177))"
      ]
     },
     "execution_count": 349,
     "metadata": {},
     "output_type": "execute_result"
    }
   ],
   "source": [
    "X_train.shape, X_test.shape"
   ]
  },
  {
   "cell_type": "code",
   "execution_count": 346,
   "metadata": {},
   "outputs": [],
   "source": [
    "# add no_proxy col\n",
    "\n",
    "X_train['no_proxy'] = np.abs(~X_train.proxy)\n",
    "X_test['no_proxy'] = np.abs(~X_test.proxy)"
   ]
  },
  {
   "cell_type": "code",
   "execution_count": 347,
   "metadata": {},
   "outputs": [
    {
     "data": {
      "text/html": [
       "<div>\n",
       "<style scoped>\n",
       "    .dataframe tbody tr th:only-of-type {\n",
       "        vertical-align: middle;\n",
       "    }\n",
       "\n",
       "    .dataframe tbody tr th {\n",
       "        vertical-align: top;\n",
       "    }\n",
       "\n",
       "    .dataframe thead th {\n",
       "        text-align: right;\n",
       "    }\n",
       "</style>\n",
       "<table border=\"1\" class=\"dataframe\">\n",
       "  <thead>\n",
       "    <tr style=\"text-align: right;\">\n",
       "      <th></th>\n",
       "      <th>proxy</th>\n",
       "      <th>no_proxy</th>\n",
       "    </tr>\n",
       "  </thead>\n",
       "  <tbody>\n",
       "    <tr>\n",
       "      <th>0</th>\n",
       "      <td>0</td>\n",
       "      <td>1</td>\n",
       "    </tr>\n",
       "    <tr>\n",
       "      <th>1</th>\n",
       "      <td>0</td>\n",
       "      <td>1</td>\n",
       "    </tr>\n",
       "    <tr>\n",
       "      <th>2</th>\n",
       "      <td>0</td>\n",
       "      <td>1</td>\n",
       "    </tr>\n",
       "    <tr>\n",
       "      <th>3</th>\n",
       "      <td>0</td>\n",
       "      <td>1</td>\n",
       "    </tr>\n",
       "    <tr>\n",
       "      <th>4</th>\n",
       "      <td>0</td>\n",
       "      <td>1</td>\n",
       "    </tr>\n",
       "  </tbody>\n",
       "</table>\n",
       "</div>"
      ],
      "text/plain": [
       "   proxy  no_proxy\n",
       "0      0         1\n",
       "1      0         1\n",
       "2      0         1\n",
       "3      0         1\n",
       "4      0         1"
      ]
     },
     "execution_count": 347,
     "metadata": {},
     "output_type": "execute_result"
    }
   ],
   "source": [
    "X_train[['proxy', 'no_proxy']].head()"
   ]
  },
  {
   "cell_type": "code",
   "execution_count": 244,
   "metadata": {},
   "outputs": [],
   "source": [
    "import xlearn as xl\n",
    "from scipy.stats import wilcoxon\n",
    "from sklearn.metrics import roc_auc_score"
   ]
  },
  {
   "cell_type": "code",
   "execution_count": 247,
   "metadata": {},
   "outputs": [],
   "source": [
    "fm1 = xl.FMModel(task='binary', init=.1, epoch=50, lr=.2, reg_lambda=.002, metric='auc')\n",
    "fm2 = xl.FMModel(task='binary', init=.1, epoch=50, lr=.2, reg_lambda=.002, metric='auc')"
   ]
  },
  {
   "cell_type": "code",
   "execution_count": 350,
   "metadata": {},
   "outputs": [],
   "source": [
    "X_train, X_val, y_train, y_val = train_test_split(X_train, y_train, test_size=.1,\\\n",
    "                                                    random_state=42, stratify=y_train)"
   ]
  },
  {
   "cell_type": "code",
   "execution_count": 254,
   "metadata": {},
   "outputs": [],
   "source": [
    "# with proxy\n",
    "fm1.fit(X_train.drop(columns='no_proxy'), y_train,\n",
    "                 eval_set=[X_val.drop(columns='no_proxy'), y_val],\n",
    "                 is_lock_free=False)\n",
    "\n",
    "\n",
    "# with no_proxy\n",
    "fm2.fit(X_train.drop(columns='proxy'), y_train,\n",
    "                 eval_set=[X_val.drop(columns='proxy'), y_val],\n",
    "                 is_lock_free=False)"
   ]
  },
  {
   "cell_type": "code",
   "execution_count": 262,
   "metadata": {},
   "outputs": [
    {
     "data": {
      "text/plain": [
       "WilcoxonResult(statistic=93.0, pvalue=0.0041140307793227126)"
      ]
     },
     "execution_count": 262,
     "metadata": {},
     "output_type": "execute_result"
    }
   ],
   "source": [
    "a = []\n",
    "b = []\n",
    "\n",
    "for i in range(30):\n",
    "    X_test_sample, _, y_ts, _ = train_test_split(X_test, y_test, test_size=.8, stratify=y_test)\n",
    "    a.append( roc_auc_score( y_ts, fm1.predict(X_test_sample.drop(columns='no_proxy')) ) )\n",
    "    b.append( roc_auc_score( y_ts, fm2.predict(X_test_sample.drop(columns='proxy')) ) )\n",
    "wilcoxon(a, b)"
   ]
  },
  {
   "cell_type": "markdown",
   "metadata": {},
   "source": [
    "Есть некоторая значимость для замены proxy на no_proxy."
   ]
  },
  {
   "cell_type": "code",
   "execution_count": 351,
   "metadata": {},
   "outputs": [],
   "source": [
    "X_train.drop(columns='proxy', inplace=True)\n",
    "X_val.drop(columns='proxy', inplace=True)\n",
    "X_test.drop(columns='proxy', inplace=True)"
   ]
  },
  {
   "cell_type": "markdown",
   "metadata": {},
   "source": [
    "Сделаем такой же тест для некоторых признаков, которые ранее имели малый вес в feature_importances."
   ]
  },
  {
   "cell_type": "code",
   "execution_count": 352,
   "metadata": {},
   "outputs": [],
   "source": [
    "features_to_check = ['city_code', 'banner_id', 'isp', 'affiliate_id', \\\n",
    "                     'mobile_isp', 'advertiser_id', 'region_code']"
   ]
  },
  {
   "cell_type": "code",
   "execution_count": 353,
   "metadata": {},
   "outputs": [
    {
     "data": {
      "application/vnd.jupyter.widget-view+json": {
       "model_id": "bf66de0e6da641dcac2690f08a65d865",
       "version_major": 2,
       "version_minor": 0
      },
      "text/plain": [
       "HBox(children=(IntProgress(value=0, description='feature', max=7), HTML(value='')))"
      ]
     },
     "metadata": {},
     "output_type": "display_data"
    },
    {
     "data": {
      "application/vnd.jupyter.widget-view+json": {
       "model_id": "b5c9b50a8fba4159b95be5223f2cf91e",
       "version_major": 2,
       "version_minor": 0
      },
      "text/plain": [
       "HBox(children=(IntProgress(value=0, description='dummy_cv', max=30), HTML(value='')))"
      ]
     },
     "metadata": {},
     "output_type": "display_data"
    },
    {
     "data": {
      "application/vnd.jupyter.widget-view+json": {
       "model_id": "52bc7cf8fe234977bd7d176d9c9c29d4",
       "version_major": 2,
       "version_minor": 0
      },
      "text/plain": [
       "HBox(children=(IntProgress(value=0, description='dummy_cv', max=30), HTML(value='')))"
      ]
     },
     "metadata": {},
     "output_type": "display_data"
    },
    {
     "data": {
      "application/vnd.jupyter.widget-view+json": {
       "model_id": "29d0306b1f9a45e88da5a35eb77ffade",
       "version_major": 2,
       "version_minor": 0
      },
      "text/plain": [
       "HBox(children=(IntProgress(value=0, description='dummy_cv', max=30), HTML(value='')))"
      ]
     },
     "metadata": {},
     "output_type": "display_data"
    },
    {
     "data": {
      "application/vnd.jupyter.widget-view+json": {
       "model_id": "c9107e114f5e403ea4890440f1f3d9df",
       "version_major": 2,
       "version_minor": 0
      },
      "text/plain": [
       "HBox(children=(IntProgress(value=0, description='dummy_cv', max=30), HTML(value='')))"
      ]
     },
     "metadata": {},
     "output_type": "display_data"
    },
    {
     "data": {
      "application/vnd.jupyter.widget-view+json": {
       "model_id": "d153aa142f3840c3a859bbbec16b1712",
       "version_major": 2,
       "version_minor": 0
      },
      "text/plain": [
       "HBox(children=(IntProgress(value=0, description='dummy_cv', max=30), HTML(value='')))"
      ]
     },
     "metadata": {},
     "output_type": "display_data"
    },
    {
     "data": {
      "application/vnd.jupyter.widget-view+json": {
       "model_id": "f96769080e8942779bb002c6006d4e1e",
       "version_major": 2,
       "version_minor": 0
      },
      "text/plain": [
       "HBox(children=(IntProgress(value=0, description='dummy_cv', max=30), HTML(value='')))"
      ]
     },
     "metadata": {},
     "output_type": "display_data"
    },
    {
     "data": {
      "application/vnd.jupyter.widget-view+json": {
       "model_id": "c29e7e75e9f046a1b232a69f73a42c34",
       "version_major": 2,
       "version_minor": 0
      },
      "text/plain": [
       "HBox(children=(IntProgress(value=0, description='dummy_cv', max=30), HTML(value='')))"
      ]
     },
     "metadata": {},
     "output_type": "display_data"
    }
   ],
   "source": [
    "scores = {}\n",
    "\n",
    "for column in tqdm(features_to_check, desc='feature'):\n",
    "    to_drop = X_train.columns.str.contains(column)\n",
    "    to_drop = X_train.columns[to_drop]\n",
    "    \n",
    "    # include low-important column\n",
    "    fm1.fit(X_train, y_train,\n",
    "                 eval_set=[X_val, y_val],\n",
    "                 is_lock_free=False)\n",
    "\n",
    "\n",
    "    # drop low-important\n",
    "    fm2.fit(X_train.drop(columns=to_drop), y_train,\n",
    "                 eval_set=[X_val.drop(columns=to_drop), y_val],\n",
    "                 is_lock_free=False)\n",
    "    a = []\n",
    "    b = []\n",
    "\n",
    "    for i in tqdm(range(30), desc='dummy_cv'):\n",
    "        X_test_sample, _, y_ts, _ = train_test_split(X_test, y_test, test_size=.8, stratify=y_test)\n",
    "        a.append( roc_auc_score( y_ts, fm1.predict(X_test_sample) ) )\n",
    "        b.append( roc_auc_score( y_ts, fm2.predict(X_test_sample.drop(columns=to_drop)) ) )\n",
    "    score = wilcoxon(a, b)\n",
    "    scores[column] = score"
   ]
  },
  {
   "cell_type": "code",
   "execution_count": 367,
   "metadata": {},
   "outputs": [
    {
     "data": {
      "text/html": [
       "<div>\n",
       "<style scoped>\n",
       "    .dataframe tbody tr th:only-of-type {\n",
       "        vertical-align: middle;\n",
       "    }\n",
       "\n",
       "    .dataframe tbody tr th {\n",
       "        vertical-align: top;\n",
       "    }\n",
       "\n",
       "    .dataframe thead th {\n",
       "        text-align: right;\n",
       "    }\n",
       "</style>\n",
       "<table border=\"1\" class=\"dataframe\">\n",
       "  <thead>\n",
       "    <tr style=\"text-align: right;\">\n",
       "      <th></th>\n",
       "      <th>statistic</th>\n",
       "      <th>p-value</th>\n",
       "    </tr>\n",
       "  </thead>\n",
       "  <tbody>\n",
       "    <tr>\n",
       "      <th>city_code</th>\n",
       "      <td>161.00000</td>\n",
       "      <td>0.14139</td>\n",
       "    </tr>\n",
       "    <tr>\n",
       "      <th>banner_id</th>\n",
       "      <td>116.00000</td>\n",
       "      <td>0.01656</td>\n",
       "    </tr>\n",
       "    <tr>\n",
       "      <th>isp</th>\n",
       "      <td>172.00000</td>\n",
       "      <td>0.21336</td>\n",
       "    </tr>\n",
       "    <tr>\n",
       "      <th>affiliate_id</th>\n",
       "      <td>129.50000</td>\n",
       "      <td>0.03411</td>\n",
       "    </tr>\n",
       "    <tr>\n",
       "      <th>mobile_isp</th>\n",
       "      <td>93.00000</td>\n",
       "      <td>0.00411</td>\n",
       "    </tr>\n",
       "    <tr>\n",
       "      <th>advertiser_id</th>\n",
       "      <td>12.00000</td>\n",
       "      <td>0.00001</td>\n",
       "    </tr>\n",
       "    <tr>\n",
       "      <th>region_code</th>\n",
       "      <td>127.00000</td>\n",
       "      <td>0.03001</td>\n",
       "    </tr>\n",
       "  </tbody>\n",
       "</table>\n",
       "</div>"
      ],
      "text/plain": [
       "               statistic  p-value\n",
       "city_code      161.00000  0.14139\n",
       "banner_id      116.00000  0.01656\n",
       "isp            172.00000  0.21336\n",
       "affiliate_id   129.50000  0.03411\n",
       "mobile_isp      93.00000  0.00411\n",
       "advertiser_id   12.00000  0.00001\n",
       "region_code    127.00000  0.03001"
      ]
     },
     "execution_count": 367,
     "metadata": {},
     "output_type": "execute_result"
    }
   ],
   "source": [
    "pd.options.display.float_format = '{:.5f}'.format\n",
    "\n",
    "pd.DataFrame([[value.statistic, value.pvalue] for value in scores.values()],\\\n",
    "             index=scores.keys(), columns=['statistic', 'p-value'])"
   ]
  },
  {
   "cell_type": "markdown",
   "metadata": {},
   "source": [
    "Больше всего подозрений по итогу тестов вызывает advertiser_id."
   ]
  },
  {
   "cell_type": "markdown",
   "metadata": {},
   "source": [
    "## Conclusions\n",
    "    1) date_time в изначальном формате смысла для классификации не несет.\n",
    "    2) offer_id нужно или убрать, или заполнить.\n",
    "    3) varp переменная является незначимой.\n",
    "    4) proxy нужно заменить на no_proxy.\n",
    "    5) os_type может быть избыточным.\n",
    "    6) с feature_importances для OHE-предикторов можно ознакомиться в отдельном файле fs_importances.csv\n",
    "    7) По итогам тестов малый вклад вносят advertiser_id и mobile_isp, но это само по себе сомнительно логически."
   ]
  }
 ],
 "metadata": {
  "kernelspec": {
   "display_name": "Python 3",
   "language": "python",
   "name": "python3"
  },
  "language_info": {
   "codemirror_mode": {
    "name": "ipython",
    "version": 3
   },
   "file_extension": ".py",
   "mimetype": "text/x-python",
   "name": "python",
   "nbconvert_exporter": "python",
   "pygments_lexer": "ipython3",
   "version": "3.6.5"
  }
 },
 "nbformat": 4,
 "nbformat_minor": 2
}
